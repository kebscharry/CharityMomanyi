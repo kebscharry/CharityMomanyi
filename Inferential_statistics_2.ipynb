{
  "nbformat": 4,
  "nbformat_minor": 0,
  "metadata": {
    "colab": {
      "provenance": [],
      "authorship_tag": "ABX9TyMpwBgrOGbPaOV3tlII2uSn",
      "include_colab_link": true
    },
    "kernelspec": {
      "name": "python3",
      "display_name": "Python 3"
    },
    "language_info": {
      "name": "python"
    }
  },
  "cells": [
    {
      "cell_type": "markdown",
      "metadata": {
        "id": "view-in-github",
        "colab_type": "text"
      },
      "source": [
        "<a href=\"https://colab.research.google.com/github/kebscharry/CharityMomanyi/blob/main/Inferential_statistics_2.ipynb\" target=\"_parent\"><img src=\"https://colab.research.google.com/assets/colab-badge.svg\" alt=\"Open In Colab\"/></a>"
      ]
    },
    {
      "cell_type": "code",
      "execution_count": 1,
      "metadata": {
        "id": "MqJrZsKzFJ4r"
      },
      "outputs": [],
      "source": [
        "import numpy as np\n",
        "from scipy import stats"
      ]
    },
    {
      "cell_type": "code",
      "source": [
        "heights = [165, 170, 172, 160, 175, 168, 169, 174, 166, 171, 173, 167, 165, 169, 170, 172, 160, 175, 168, 169]"
      ],
      "metadata": {
        "id": "H98JyCrQFRAi"
      },
      "execution_count": 2,
      "outputs": []
    },
    {
      "cell_type": "code",
      "source": [
        "pop_mean =170"
      ],
      "metadata": {
        "id": "0kw75mBQF2Bv"
      },
      "execution_count": 3,
      "outputs": []
    },
    {
      "cell_type": "code",
      "source": [
        "#perform one sample t-test\n",
        "t_statistic, p_value = stats.ttest_1samp(heights, pop_mean)"
      ],
      "metadata": {
        "id": "O7vOwrR_F5ZI"
      },
      "execution_count": 4,
      "outputs": []
    },
    {
      "cell_type": "code",
      "source": [
        "print(\"One sample t-test: \")\n",
        "print(f\"T-statistic: {t_statistic}\")\n",
        "print(f\"P-value: {p_value}\")"
      ],
      "metadata": {
        "colab": {
          "base_uri": "https://localhost:8080/"
        },
        "id": "ppGU6CbAGNKc",
        "outputId": "a6405d50-08f3-4f0e-a4a4-02a71ceec180"
      },
      "execution_count": 5,
      "outputs": [
        {
          "output_type": "stream",
          "name": "stdout",
          "text": [
            "One sample t-test: \n",
            "T-statistic: -1.1531133203941042\n",
            "P-value: 0.26316479718774327\n"
          ]
        }
      ]
    },
    {
      "cell_type": "code",
      "source": [
        "import numpy as np\n",
        "from scipy import stats"
      ],
      "metadata": {
        "id": "qKNGj0AHGhFV"
      },
      "execution_count": 6,
      "outputs": []
    },
    {
      "cell_type": "code",
      "source": [
        "# set seed for reproducibility\n",
        "np.random.seed(123)\n"
      ],
      "metadata": {
        "id": "5PLr8nfNIDPk"
      },
      "execution_count": 7,
      "outputs": []
    },
    {
      "cell_type": "code",
      "source": [
        "# generate two samples of the data\n",
        "sample1 = np.random.normal(loc=10, scale=2, size=30)\n",
        "sample2 = np.random.normal(loc=12, scale=2, size=30)"
      ],
      "metadata": {
        "id": "4kOefWg0INLv"
      },
      "execution_count": 10,
      "outputs": []
    },
    {
      "cell_type": "code",
      "source": [
        "# perform independent two-sample t-test\n",
        "t_statistic, p_value = stats.ttest_ind(sample1, sample2)"
      ],
      "metadata": {
        "id": "nUXQ7Ig9Ij7x"
      },
      "execution_count": 11,
      "outputs": []
    },
    {
      "cell_type": "code",
      "source": [
        "#print the test\n",
        "print(\"Independent two-sample t-test: \")\n",
        "print(f\"T-statistic: {t_statistic}\")\n",
        "print(f\"P-value: {p_value}\")"
      ],
      "metadata": {
        "colab": {
          "base_uri": "https://localhost:8080/"
        },
        "id": "4QbH1xqiJACb",
        "outputId": "1a4f38f4-f989-4b1d-b2e2-dc7f3f283355"
      },
      "execution_count": 12,
      "outputs": [
        {
          "output_type": "stream",
          "name": "stdout",
          "text": [
            "Independent two-sample t-test: \n",
            "T-statistic: -3.5101536550632324\n",
            "P-value: 0.0008734906522371211\n"
          ]
        }
      ]
    },
    {
      "cell_type": "code",
      "source": [
        "# chi square\n",
        "import numpy as np\n",
        "from scipy.stats import chisquare"
      ],
      "metadata": {
        "id": "524t_Mr0JHao"
      },
      "execution_count": 14,
      "outputs": []
    },
    {
      "cell_type": "code",
      "source": [
        "# observed frequencies\n",
        "observed = np.array([25, 15, 10])"
      ],
      "metadata": {
        "id": "zTUW8DsZKndh"
      },
      "execution_count": 15,
      "outputs": []
    },
    {
      "cell_type": "code",
      "source": [
        "# expected probabilities under the null hypothesis\n",
        "expected_prob = np.array([0.4, 0.4, 0.2])"
      ],
      "metadata": {
        "id": "gEEqLlJUK5H9"
      },
      "execution_count": 16,
      "outputs": []
    },
    {
      "cell_type": "code",
      "source": [
        "#total number of observations\n",
        "total_observed = np.sum(observed)"
      ],
      "metadata": {
        "id": "18tKjYZZLG-M"
      },
      "execution_count": 17,
      "outputs": []
    },
    {
      "cell_type": "code",
      "source": [
        "# calculate the expected frequencies\n",
        "expected = total_observed * expected_prob"
      ],
      "metadata": {
        "id": "yDy7cZkOLPQa"
      },
      "execution_count": 18,
      "outputs": []
    },
    {
      "cell_type": "code",
      "source": [
        "# perform chi square goodness of fit test\n",
        "chi2_stat, p_value = chisquare(f_obs=observed, f_exp=expected)"
      ],
      "metadata": {
        "id": "GSfI4EhpLZ_k"
      },
      "execution_count": 19,
      "outputs": []
    },
    {
      "cell_type": "code",
      "source": [
        "#print the test result\n",
        "print(\"Chi-square goodness of fit test: \")\n",
        "print(f\"Chi-square statistic: {chi2_stat}\")\n",
        "print(f\"P-value: {p_value}\")"
      ],
      "metadata": {
        "colab": {
          "base_uri": "https://localhost:8080/"
        },
        "id": "HpAs8U9ELm62",
        "outputId": "4c702740-39c5-4e93-c82c-6ae6664c31c2"
      },
      "execution_count": 20,
      "outputs": [
        {
          "output_type": "stream",
          "name": "stdout",
          "text": [
            "Chi-square goodness of fit test: \n",
            "Chi-square statistic: 2.5\n",
            "P-value: 0.2865047968601901\n"
          ]
        }
      ]
    },
    {
      "cell_type": "code",
      "source": [],
      "metadata": {
        "id": "88_GwVfiLwjY"
      },
      "execution_count": null,
      "outputs": []
    }
  ]
}