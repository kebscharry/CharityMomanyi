{
  "nbformat": 4,
  "nbformat_minor": 0,
  "metadata": {
    "colab": {
      "provenance": [],
      "include_colab_link": true
    },
    "kernelspec": {
      "name": "python3",
      "display_name": "Python 3"
    },
    "language_info": {
      "name": "python"
    }
  },
  "cells": [
    {
      "cell_type": "markdown",
      "metadata": {
        "id": "view-in-github",
        "colab_type": "text"
      },
      "source": [
        "<a href=\"https://colab.research.google.com/github/kebscharry/CharityMomanyi/blob/main/Descriptive_Statistics_practical_pynb.ipynb\" target=\"_parent\"><img src=\"https://colab.research.google.com/assets/colab-badge.svg\" alt=\"Open In Colab\"/></a>"
      ]
    },
    {
      "cell_type": "code",
      "source": [
        "from google.colab import drive\n",
        "drive.mount('/content/drive')"
      ],
      "metadata": {
        "id": "oA3h9EKeHK4y",
        "outputId": "efdcf387-7452-4397-e594-7713ca0e428f",
        "colab": {
          "base_uri": "https://localhost:8080/"
        }
      },
      "execution_count": 1,
      "outputs": [
        {
          "output_type": "stream",
          "name": "stdout",
          "text": [
            "Mounted at /content/drive\n"
          ]
        }
      ]
    },
    {
      "cell_type": "markdown",
      "source": [
        "Activity 4:\n",
        "\n",
        "Compute the mean and median of the heights for the children under five years of age in Bungoma County.\n",
        "\n",
        "Interpret the results."
      ],
      "metadata": {
        "id": "ninDxrgCEB97"
      }
    },
    {
      "cell_type": "code",
      "execution_count": 12,
      "metadata": {
        "id": "_vT2TXiwDwte"
      },
      "outputs": [],
      "source": [
        "#Reading data\n",
        "import pandas as pd\n",
        "child = pd.read_csv(\"childhealthdata.csv\")"
      ]
    },
    {
      "cell_type": "code",
      "source": [
        "child.head()"
      ],
      "metadata": {
        "id": "rp1O8Ae0-eZn",
        "outputId": "eab2dafc-ebed-4a7c-d465-28f34fe4bdd3",
        "colab": {
          "base_uri": "https://localhost:8080/",
          "height": 206
        }
      },
      "execution_count": 18,
      "outputs": [
        {
          "output_type": "execute_result",
          "data": {
            "text/plain": [
              "   Child participated in POLIO campaign August 2013  diarrhea_status  weight  \\\n",
              "0                                                 1               No    16.2   \n",
              "1                                                 1               No    13.5   \n",
              "2                                                 1               No    13.4   \n",
              "3                                                 1               No    15.0   \n",
              "4                                                 1               No    15.2   \n",
              "\n",
              "   height residence     Sex  age age_category   education wealth_index  \n",
              "0   102.4     Rural  Female   45        36-47  Secondary+      Richest  \n",
              "1    92.5     Rural    Male   45        36-47     Primary       Second  \n",
              "2    88.5     Rural    Male   36        36-47     Primary       Fourth  \n",
              "3   101.3     Rural  Female   51        48-59     Primary       Fourth  \n",
              "4   105.0     Rural  Female   56        48-59     Primary       Fourth  "
            ],
            "text/html": [
              "\n",
              "  <div id=\"df-c9c6c979-dffb-4f48-b3f0-a209f2176b72\" class=\"colab-df-container\">\n",
              "    <div>\n",
              "<style scoped>\n",
              "    .dataframe tbody tr th:only-of-type {\n",
              "        vertical-align: middle;\n",
              "    }\n",
              "\n",
              "    .dataframe tbody tr th {\n",
              "        vertical-align: top;\n",
              "    }\n",
              "\n",
              "    .dataframe thead th {\n",
              "        text-align: right;\n",
              "    }\n",
              "</style>\n",
              "<table border=\"1\" class=\"dataframe\">\n",
              "  <thead>\n",
              "    <tr style=\"text-align: right;\">\n",
              "      <th></th>\n",
              "      <th>Child participated in POLIO campaign August 2013</th>\n",
              "      <th>diarrhea_status</th>\n",
              "      <th>weight</th>\n",
              "      <th>height</th>\n",
              "      <th>residence</th>\n",
              "      <th>Sex</th>\n",
              "      <th>age</th>\n",
              "      <th>age_category</th>\n",
              "      <th>education</th>\n",
              "      <th>wealth_index</th>\n",
              "    </tr>\n",
              "  </thead>\n",
              "  <tbody>\n",
              "    <tr>\n",
              "      <th>0</th>\n",
              "      <td>1</td>\n",
              "      <td>No</td>\n",
              "      <td>16.2</td>\n",
              "      <td>102.4</td>\n",
              "      <td>Rural</td>\n",
              "      <td>Female</td>\n",
              "      <td>45</td>\n",
              "      <td>36-47</td>\n",
              "      <td>Secondary+</td>\n",
              "      <td>Richest</td>\n",
              "    </tr>\n",
              "    <tr>\n",
              "      <th>1</th>\n",
              "      <td>1</td>\n",
              "      <td>No</td>\n",
              "      <td>13.5</td>\n",
              "      <td>92.5</td>\n",
              "      <td>Rural</td>\n",
              "      <td>Male</td>\n",
              "      <td>45</td>\n",
              "      <td>36-47</td>\n",
              "      <td>Primary</td>\n",
              "      <td>Second</td>\n",
              "    </tr>\n",
              "    <tr>\n",
              "      <th>2</th>\n",
              "      <td>1</td>\n",
              "      <td>No</td>\n",
              "      <td>13.4</td>\n",
              "      <td>88.5</td>\n",
              "      <td>Rural</td>\n",
              "      <td>Male</td>\n",
              "      <td>36</td>\n",
              "      <td>36-47</td>\n",
              "      <td>Primary</td>\n",
              "      <td>Fourth</td>\n",
              "    </tr>\n",
              "    <tr>\n",
              "      <th>3</th>\n",
              "      <td>1</td>\n",
              "      <td>No</td>\n",
              "      <td>15.0</td>\n",
              "      <td>101.3</td>\n",
              "      <td>Rural</td>\n",
              "      <td>Female</td>\n",
              "      <td>51</td>\n",
              "      <td>48-59</td>\n",
              "      <td>Primary</td>\n",
              "      <td>Fourth</td>\n",
              "    </tr>\n",
              "    <tr>\n",
              "      <th>4</th>\n",
              "      <td>1</td>\n",
              "      <td>No</td>\n",
              "      <td>15.2</td>\n",
              "      <td>105.0</td>\n",
              "      <td>Rural</td>\n",
              "      <td>Female</td>\n",
              "      <td>56</td>\n",
              "      <td>48-59</td>\n",
              "      <td>Primary</td>\n",
              "      <td>Fourth</td>\n",
              "    </tr>\n",
              "  </tbody>\n",
              "</table>\n",
              "</div>\n",
              "    <div class=\"colab-df-buttons\">\n",
              "\n",
              "  <div class=\"colab-df-container\">\n",
              "    <button class=\"colab-df-convert\" onclick=\"convertToInteractive('df-c9c6c979-dffb-4f48-b3f0-a209f2176b72')\"\n",
              "            title=\"Convert this dataframe to an interactive table.\"\n",
              "            style=\"display:none;\">\n",
              "\n",
              "  <svg xmlns=\"http://www.w3.org/2000/svg\" height=\"24px\" viewBox=\"0 -960 960 960\">\n",
              "    <path d=\"M120-120v-720h720v720H120Zm60-500h600v-160H180v160Zm220 220h160v-160H400v160Zm0 220h160v-160H400v160ZM180-400h160v-160H180v160Zm440 0h160v-160H620v160ZM180-180h160v-160H180v160Zm440 0h160v-160H620v160Z\"/>\n",
              "  </svg>\n",
              "    </button>\n",
              "\n",
              "  <style>\n",
              "    .colab-df-container {\n",
              "      display:flex;\n",
              "      gap: 12px;\n",
              "    }\n",
              "\n",
              "    .colab-df-convert {\n",
              "      background-color: #E8F0FE;\n",
              "      border: none;\n",
              "      border-radius: 50%;\n",
              "      cursor: pointer;\n",
              "      display: none;\n",
              "      fill: #1967D2;\n",
              "      height: 32px;\n",
              "      padding: 0 0 0 0;\n",
              "      width: 32px;\n",
              "    }\n",
              "\n",
              "    .colab-df-convert:hover {\n",
              "      background-color: #E2EBFA;\n",
              "      box-shadow: 0px 1px 2px rgba(60, 64, 67, 0.3), 0px 1px 3px 1px rgba(60, 64, 67, 0.15);\n",
              "      fill: #174EA6;\n",
              "    }\n",
              "\n",
              "    .colab-df-buttons div {\n",
              "      margin-bottom: 4px;\n",
              "    }\n",
              "\n",
              "    [theme=dark] .colab-df-convert {\n",
              "      background-color: #3B4455;\n",
              "      fill: #D2E3FC;\n",
              "    }\n",
              "\n",
              "    [theme=dark] .colab-df-convert:hover {\n",
              "      background-color: #434B5C;\n",
              "      box-shadow: 0px 1px 3px 1px rgba(0, 0, 0, 0.15);\n",
              "      filter: drop-shadow(0px 1px 2px rgba(0, 0, 0, 0.3));\n",
              "      fill: #FFFFFF;\n",
              "    }\n",
              "  </style>\n",
              "\n",
              "    <script>\n",
              "      const buttonEl =\n",
              "        document.querySelector('#df-c9c6c979-dffb-4f48-b3f0-a209f2176b72 button.colab-df-convert');\n",
              "      buttonEl.style.display =\n",
              "        google.colab.kernel.accessAllowed ? 'block' : 'none';\n",
              "\n",
              "      async function convertToInteractive(key) {\n",
              "        const element = document.querySelector('#df-c9c6c979-dffb-4f48-b3f0-a209f2176b72');\n",
              "        const dataTable =\n",
              "          await google.colab.kernel.invokeFunction('convertToInteractive',\n",
              "                                                    [key], {});\n",
              "        if (!dataTable) return;\n",
              "\n",
              "        const docLinkHtml = 'Like what you see? Visit the ' +\n",
              "          '<a target=\"_blank\" href=https://colab.research.google.com/notebooks/data_table.ipynb>data table notebook</a>'\n",
              "          + ' to learn more about interactive tables.';\n",
              "        element.innerHTML = '';\n",
              "        dataTable['output_type'] = 'display_data';\n",
              "        await google.colab.output.renderOutput(dataTable, element);\n",
              "        const docLink = document.createElement('div');\n",
              "        docLink.innerHTML = docLinkHtml;\n",
              "        element.appendChild(docLink);\n",
              "      }\n",
              "    </script>\n",
              "  </div>\n",
              "\n",
              "\n",
              "<div id=\"df-a0eb4f5e-6a0d-4dda-a22e-2dd0eebeacc1\">\n",
              "  <button class=\"colab-df-quickchart\" onclick=\"quickchart('df-a0eb4f5e-6a0d-4dda-a22e-2dd0eebeacc1')\"\n",
              "            title=\"Suggest charts\"\n",
              "            style=\"display:none;\">\n",
              "\n",
              "<svg xmlns=\"http://www.w3.org/2000/svg\" height=\"24px\"viewBox=\"0 0 24 24\"\n",
              "     width=\"24px\">\n",
              "    <g>\n",
              "        <path d=\"M19 3H5c-1.1 0-2 .9-2 2v14c0 1.1.9 2 2 2h14c1.1 0 2-.9 2-2V5c0-1.1-.9-2-2-2zM9 17H7v-7h2v7zm4 0h-2V7h2v10zm4 0h-2v-4h2v4z\"/>\n",
              "    </g>\n",
              "</svg>\n",
              "  </button>\n",
              "\n",
              "<style>\n",
              "  .colab-df-quickchart {\n",
              "      --bg-color: #E8F0FE;\n",
              "      --fill-color: #1967D2;\n",
              "      --hover-bg-color: #E2EBFA;\n",
              "      --hover-fill-color: #174EA6;\n",
              "      --disabled-fill-color: #AAA;\n",
              "      --disabled-bg-color: #DDD;\n",
              "  }\n",
              "\n",
              "  [theme=dark] .colab-df-quickchart {\n",
              "      --bg-color: #3B4455;\n",
              "      --fill-color: #D2E3FC;\n",
              "      --hover-bg-color: #434B5C;\n",
              "      --hover-fill-color: #FFFFFF;\n",
              "      --disabled-bg-color: #3B4455;\n",
              "      --disabled-fill-color: #666;\n",
              "  }\n",
              "\n",
              "  .colab-df-quickchart {\n",
              "    background-color: var(--bg-color);\n",
              "    border: none;\n",
              "    border-radius: 50%;\n",
              "    cursor: pointer;\n",
              "    display: none;\n",
              "    fill: var(--fill-color);\n",
              "    height: 32px;\n",
              "    padding: 0;\n",
              "    width: 32px;\n",
              "  }\n",
              "\n",
              "  .colab-df-quickchart:hover {\n",
              "    background-color: var(--hover-bg-color);\n",
              "    box-shadow: 0 1px 2px rgba(60, 64, 67, 0.3), 0 1px 3px 1px rgba(60, 64, 67, 0.15);\n",
              "    fill: var(--button-hover-fill-color);\n",
              "  }\n",
              "\n",
              "  .colab-df-quickchart-complete:disabled,\n",
              "  .colab-df-quickchart-complete:disabled:hover {\n",
              "    background-color: var(--disabled-bg-color);\n",
              "    fill: var(--disabled-fill-color);\n",
              "    box-shadow: none;\n",
              "  }\n",
              "\n",
              "  .colab-df-spinner {\n",
              "    border: 2px solid var(--fill-color);\n",
              "    border-color: transparent;\n",
              "    border-bottom-color: var(--fill-color);\n",
              "    animation:\n",
              "      spin 1s steps(1) infinite;\n",
              "  }\n",
              "\n",
              "  @keyframes spin {\n",
              "    0% {\n",
              "      border-color: transparent;\n",
              "      border-bottom-color: var(--fill-color);\n",
              "      border-left-color: var(--fill-color);\n",
              "    }\n",
              "    20% {\n",
              "      border-color: transparent;\n",
              "      border-left-color: var(--fill-color);\n",
              "      border-top-color: var(--fill-color);\n",
              "    }\n",
              "    30% {\n",
              "      border-color: transparent;\n",
              "      border-left-color: var(--fill-color);\n",
              "      border-top-color: var(--fill-color);\n",
              "      border-right-color: var(--fill-color);\n",
              "    }\n",
              "    40% {\n",
              "      border-color: transparent;\n",
              "      border-right-color: var(--fill-color);\n",
              "      border-top-color: var(--fill-color);\n",
              "    }\n",
              "    60% {\n",
              "      border-color: transparent;\n",
              "      border-right-color: var(--fill-color);\n",
              "    }\n",
              "    80% {\n",
              "      border-color: transparent;\n",
              "      border-right-color: var(--fill-color);\n",
              "      border-bottom-color: var(--fill-color);\n",
              "    }\n",
              "    90% {\n",
              "      border-color: transparent;\n",
              "      border-bottom-color: var(--fill-color);\n",
              "    }\n",
              "  }\n",
              "</style>\n",
              "\n",
              "  <script>\n",
              "    async function quickchart(key) {\n",
              "      const quickchartButtonEl =\n",
              "        document.querySelector('#' + key + ' button');\n",
              "      quickchartButtonEl.disabled = true;  // To prevent multiple clicks.\n",
              "      quickchartButtonEl.classList.add('colab-df-spinner');\n",
              "      try {\n",
              "        const charts = await google.colab.kernel.invokeFunction(\n",
              "            'suggestCharts', [key], {});\n",
              "      } catch (error) {\n",
              "        console.error('Error during call to suggestCharts:', error);\n",
              "      }\n",
              "      quickchartButtonEl.classList.remove('colab-df-spinner');\n",
              "      quickchartButtonEl.classList.add('colab-df-quickchart-complete');\n",
              "    }\n",
              "    (() => {\n",
              "      let quickchartButtonEl =\n",
              "        document.querySelector('#df-a0eb4f5e-6a0d-4dda-a22e-2dd0eebeacc1 button');\n",
              "      quickchartButtonEl.style.display =\n",
              "        google.colab.kernel.accessAllowed ? 'block' : 'none';\n",
              "    })();\n",
              "  </script>\n",
              "</div>\n",
              "\n",
              "    </div>\n",
              "  </div>\n"
            ],
            "application/vnd.google.colaboratory.intrinsic+json": {
              "type": "dataframe",
              "variable_name": "child",
              "summary": "{\n  \"name\": \"child\",\n  \"rows\": 799,\n  \"fields\": [\n    {\n      \"column\": \"Child participated in POLIO campaign August 2013\",\n      \"properties\": {\n        \"dtype\": \"number\",\n        \"std\": 0,\n        \"min\": 1,\n        \"max\": 9,\n        \"num_unique_values\": 4,\n        \"samples\": [\n          2,\n          9,\n          1\n        ],\n        \"semantic_type\": \"\",\n        \"description\": \"\"\n      }\n    },\n    {\n      \"column\": \" diarrhea_status\",\n      \"properties\": {\n        \"dtype\": \"category\",\n        \"num_unique_values\": 3,\n        \"samples\": [\n          \"No\",\n          \"Yes\",\n          \"DK\"\n        ],\n        \"semantic_type\": \"\",\n        \"description\": \"\"\n      }\n    },\n    {\n      \"column\": \"weight\",\n      \"properties\": {\n        \"dtype\": \"number\",\n        \"std\": 3.4087288270461737,\n        \"min\": 3.1,\n        \"max\": 25.0,\n        \"num_unique_values\": 154,\n        \"samples\": [\n          6.9,\n          9.7,\n          18.7\n        ],\n        \"semantic_type\": \"\",\n        \"description\": \"\"\n      }\n    },\n    {\n      \"column\": \"height\",\n      \"properties\": {\n        \"dtype\": \"number\",\n        \"std\": 13.795704117480783,\n        \"min\": 45.0,\n        \"max\": 124.8,\n        \"num_unique_values\": 396,\n        \"samples\": [\n          85.4,\n          68.7,\n          78.4\n        ],\n        \"semantic_type\": \"\",\n        \"description\": \"\"\n      }\n    },\n    {\n      \"column\": \"residence\",\n      \"properties\": {\n        \"dtype\": \"category\",\n        \"num_unique_values\": 2,\n        \"samples\": [\n          \"Urban\",\n          \"Rural\"\n        ],\n        \"semantic_type\": \"\",\n        \"description\": \"\"\n      }\n    },\n    {\n      \"column\": \"Sex\",\n      \"properties\": {\n        \"dtype\": \"category\",\n        \"num_unique_values\": 2,\n        \"samples\": [\n          \"Male\",\n          \"Female\"\n        ],\n        \"semantic_type\": \"\",\n        \"description\": \"\"\n      }\n    },\n    {\n      \"column\": \"age\",\n      \"properties\": {\n        \"dtype\": \"number\",\n        \"std\": 16,\n        \"min\": 0,\n        \"max\": 59,\n        \"num_unique_values\": 60,\n        \"samples\": [\n          45,\n          4\n        ],\n        \"semantic_type\": \"\",\n        \"description\": \"\"\n      }\n    },\n    {\n      \"column\": \"age_category\",\n      \"properties\": {\n        \"dtype\": \"category\",\n        \"num_unique_values\": 6,\n        \"samples\": [\n          \"36-47\",\n          \"48-59\"\n        ],\n        \"semantic_type\": \"\",\n        \"description\": \"\"\n      }\n    },\n    {\n      \"column\": \"education\",\n      \"properties\": {\n        \"dtype\": \"category\",\n        \"num_unique_values\": 2,\n        \"samples\": [\n          \"Primary\",\n          \"Secondary+\"\n        ],\n        \"semantic_type\": \"\",\n        \"description\": \"\"\n      }\n    },\n    {\n      \"column\": \"wealth_index\",\n      \"properties\": {\n        \"dtype\": \"category\",\n        \"num_unique_values\": 5,\n        \"samples\": [\n          \"Second\",\n          \"Middle\"\n        ],\n        \"semantic_type\": \"\",\n        \"description\": \"\"\n      }\n    }\n  ]\n}"
            }
          },
          "metadata": {},
          "execution_count": 18
        }
      ]
    },
    {
      "cell_type": "markdown",
      "source": [
        "Now to get the average height of the children"
      ],
      "metadata": {
        "id": "mGPKV-o1E6RF"
      }
    },
    {
      "cell_type": "code",
      "source": [
        "#mean of age of children\n",
        "mean_height = child['height'].mean()\n",
        "print(mean_height)"
      ],
      "metadata": {
        "id": "NhzWvIDzFAnA",
        "colab": {
          "base_uri": "https://localhost:8080/"
        },
        "outputId": "8dbeddcd-3f13-4cc8-a420-26acdb8769a3"
      },
      "execution_count": 5,
      "outputs": [
        {
          "output_type": "stream",
          "name": "stdout",
          "text": [
            "83.85857321652065\n"
          ]
        }
      ]
    },
    {
      "cell_type": "markdown",
      "source": [
        "next the median of the heights"
      ],
      "metadata": {
        "id": "Hl9isGtAFIdb"
      }
    },
    {
      "cell_type": "code",
      "source": [
        "# median of age of children\n",
        "median_height = child['height'].median()\n",
        "print(median_height)"
      ],
      "metadata": {
        "id": "wFFkil_EFQtf",
        "colab": {
          "base_uri": "https://localhost:8080/"
        },
        "outputId": "52d3a13a-84a3-4426-d341-5c30a7cbeebb"
      },
      "execution_count": 6,
      "outputs": [
        {
          "output_type": "stream",
          "name": "stdout",
          "text": [
            "84.9\n"
          ]
        }
      ]
    },
    {
      "cell_type": "markdown",
      "source": [
        "Activity 5:\n",
        "\n",
        "Compute the quartiles and the 10th and 80th percentiles of the heights for the children under five years of age in Bungoma County.\n",
        "\n",
        "Interpret the results."
      ],
      "metadata": {
        "id": "k8LMUGnXFa9e"
      }
    },
    {
      "cell_type": "markdown",
      "source": [
        "(i) the quartiles"
      ],
      "metadata": {
        "id": "3Q__LsEpGSfN"
      }
    },
    {
      "cell_type": "code",
      "source": [
        "#calculate quartiles of age of children\n",
        "quantiles_25_75 = child['height'].quantile([0.25, 0.75])\n",
        "print(quantiles_25_75)"
      ],
      "metadata": {
        "id": "EdR6mwhgGL5k",
        "colab": {
          "base_uri": "https://localhost:8080/"
        },
        "outputId": "02f390ec-d0bd-4544-eac3-522d2fee742d"
      },
      "execution_count": 7,
      "outputs": [
        {
          "output_type": "stream",
          "name": "stdout",
          "text": [
            "0.25    74.00\n",
            "0.75    93.85\n",
            "Name: height, dtype: float64\n"
          ]
        }
      ]
    },
    {
      "cell_type": "markdown",
      "source": [
        "(ii) the 10th and 80th percentiles"
      ],
      "metadata": {
        "id": "u9lQZ9TXGW-q"
      }
    },
    {
      "cell_type": "code",
      "source": [
        "# Calculate custom quantiles\n",
        "quantiles_10_80 = child['height'].quantile([0.10, 0.80])\n",
        "print(quantiles_10_80)"
      ],
      "metadata": {
        "id": "DPa1LdbmGdS2",
        "colab": {
          "base_uri": "https://localhost:8080/"
        },
        "outputId": "e390cbbc-0428-4385-f72d-b295c4ed0bbd"
      },
      "execution_count": 19,
      "outputs": [
        {
          "output_type": "stream",
          "name": "stdout",
          "text": [
            "0.2    71.66\n",
            "0.8    95.76\n",
            "Name: height, dtype: float64\n"
          ]
        }
      ]
    },
    {
      "cell_type": "code",
      "source": [
        "quantiles_20_65 = child['height'].quantile([0.20, 0.65])\n",
        "print(quantiles_20_65)"
      ],
      "metadata": {
        "id": "gkhKT0Jr_23A",
        "outputId": "74974767-6d0e-4290-9710-0f2df177f22e",
        "colab": {
          "base_uri": "https://localhost:8080/"
        }
      },
      "execution_count": 20,
      "outputs": [
        {
          "output_type": "stream",
          "name": "stdout",
          "text": [
            "0.20    71.66\n",
            "0.65    89.77\n",
            "Name: height, dtype: float64\n"
          ]
        }
      ]
    },
    {
      "cell_type": "code",
      "source": [
        "quantiles_45_55 = child['height'].quantile([0.45, 0.55])\n",
        "print(quantiles_45_55)"
      ],
      "metadata": {
        "id": "9rfh82qKA2ED",
        "outputId": "71217683-411b-4338-f488-7a5c8d043e8b",
        "colab": {
          "base_uri": "https://localhost:8080/"
        }
      },
      "execution_count": 21,
      "outputs": [
        {
          "output_type": "stream",
          "name": "stdout",
          "text": [
            "0.45    82.71\n",
            "0.55    87.00\n",
            "Name: height, dtype: float64\n"
          ]
        }
      ]
    },
    {
      "cell_type": "markdown",
      "source": [
        "Activity 6:\n",
        "\n",
        "Compute the range, inter quartile range  and the standard deviation of the heights for the children under five years of age in Bungoma County.\n",
        "\n",
        "Interpret the results"
      ],
      "metadata": {
        "id": "38H0tbfsGqcx"
      }
    },
    {
      "cell_type": "markdown",
      "source": [
        "(i) the range"
      ],
      "metadata": {
        "id": "1xk3gm-zHLH7"
      }
    },
    {
      "cell_type": "code",
      "source": [
        "# Calculate range\n",
        "height_range = child['height'].max() - child['height'].min()\n",
        "print(height_range)"
      ],
      "metadata": {
        "id": "XD1BEp2oHJnn",
        "colab": {
          "base_uri": "https://localhost:8080/"
        },
        "outputId": "cb89c261-081d-4a2d-f7fe-658a36f1eca4"
      },
      "execution_count": 9,
      "outputs": [
        {
          "output_type": "stream",
          "name": "stdout",
          "text": [
            "79.8\n"
          ]
        }
      ]
    },
    {
      "cell_type": "markdown",
      "source": [
        "(ii) the inter quartile range"
      ],
      "metadata": {
        "id": "nf9aKaOYHY6x"
      }
    },
    {
      "cell_type": "code",
      "source": [
        "# Calculate interquartile range (IQR)\n",
        "iqr = child['height'].quantile(0.75) - child['height'].quantile(0.25)\n",
        "print(\"upper bound: \", child['height'].quantile(0.75))\n",
        "print(\"lower bound: \", child['height'].quantile(0.25))\n",
        "print(iqr)"
      ],
      "metadata": {
        "id": "fPCBSYjqHibp",
        "colab": {
          "base_uri": "https://localhost:8080/"
        },
        "outputId": "3426944a-4102-4d67-9257-5f6f337296a6"
      },
      "execution_count": 10,
      "outputs": [
        {
          "output_type": "stream",
          "name": "stdout",
          "text": [
            "upper bound:  93.85\n",
            "lower bound:  74.0\n",
            "19.849999999999994\n"
          ]
        }
      ]
    },
    {
      "cell_type": "markdown",
      "source": [
        "(iii) the standard deviation"
      ],
      "metadata": {
        "id": "08kA_s20HxxK"
      }
    },
    {
      "cell_type": "code",
      "source": [
        "# Calculate standard deviation of age of children\n",
        "std_deviation_height = child['height'].std()\n",
        "print(std_deviation_height)"
      ],
      "metadata": {
        "id": "fSZ6deIkH1w2",
        "colab": {
          "base_uri": "https://localhost:8080/"
        },
        "outputId": "9d22ea62-3311-4b68-bef3-3de1174fcd6d"
      },
      "execution_count": 11,
      "outputs": [
        {
          "output_type": "stream",
          "name": "stdout",
          "text": [
            "13.795704117480783\n"
          ]
        }
      ]
    },
    {
      "cell_type": "markdown",
      "source": [
        "Activity 7:\n",
        "\n",
        "Compute the measure of skewness for the height of the children under five years of age in Bungoma county.\n",
        "\n",
        "Describe the heights using the shape of the distribution\n",
        "\n",
        "Which measure of central tendency and measure of dispersion are to be reported in this case?\n"
      ],
      "metadata": {
        "id": "IUYZJZ9BIA8h"
      }
    },
    {
      "cell_type": "markdown",
      "source": [
        "(i) measure of skewness"
      ],
      "metadata": {
        "id": "2mKwcqmgKY5S"
      }
    },
    {
      "cell_type": "code",
      "source": [
        "#to calculate measure of skewness\n",
        "from scipy.stats import skew\n",
        "skewness_height = skew(child['height'])\n",
        "print(skewness_height)"
      ],
      "metadata": {
        "id": "OVPZmsT-KQqO",
        "colab": {
          "base_uri": "https://localhost:8080/"
        },
        "outputId": "c740c967-efc3-4004-cc5c-521e5f3fb849"
      },
      "execution_count": 14,
      "outputs": [
        {
          "output_type": "stream",
          "name": "stdout",
          "text": [
            "-0.2416210650692944\n"
          ]
        }
      ]
    },
    {
      "cell_type": "markdown",
      "source": [
        "(iii)measure of central tendency and accompanying measure of dispersion to report"
      ],
      "metadata": {
        "id": "CGQvCLtcKdTl"
      }
    },
    {
      "cell_type": "code",
      "source": [
        "# calculate skewness and decide which measure of central tendency to report\n",
        "skew_ht = skew(child['height'])\n",
        "ht_measure = \"Mean\" if abs(skew_ht) <= 0.5 else \"Median\"\n",
        "print(ht_measure)"
      ],
      "metadata": {
        "id": "W4ghKblxKpMi",
        "colab": {
          "base_uri": "https://localhost:8080/"
        },
        "outputId": "6e02784b-bb9d-4b0a-97a0-7efd1b75dfc1"
      },
      "execution_count": 15,
      "outputs": [
        {
          "output_type": "stream",
          "name": "stdout",
          "text": [
            "Mean\n"
          ]
        }
      ]
    },
    {
      "cell_type": "markdown",
      "source": [
        "Depending on result above:"
      ],
      "metadata": {
        "id": "dlyyqSeULJfQ"
      }
    },
    {
      "cell_type": "code",
      "source": [
        "#if mean, then\n",
        "# Calculate mean and standard deviation of height\n",
        "mean_weight = child['height'].mean()\n",
        "std_deviation_weight = child['height'].std()\n",
        "print(mean_height)\n",
        "print(std_deviation_height)"
      ],
      "metadata": {
        "id": "rokqZvyELSXJ",
        "colab": {
          "base_uri": "https://localhost:8080/"
        },
        "outputId": "3fc40d9a-9359-4d50-ac16-150adac0fcda"
      },
      "execution_count": 16,
      "outputs": [
        {
          "output_type": "stream",
          "name": "stdout",
          "text": [
            "83.85857321652065\n",
            "13.795704117480783\n"
          ]
        }
      ]
    },
    {
      "cell_type": "code",
      "source": [
        "#if median,then\n",
        "#calculate median and inter quartile range of height\n",
        "median_height = child['height'].median()\n",
        "iqr_height = child['height'].quantile(0.75) - child['height'].quantile(0.25)\n",
        "print(median_height)\n",
        "print(iqr_height)"
      ],
      "metadata": {
        "id": "FeQYMPZNLd3C",
        "colab": {
          "base_uri": "https://localhost:8080/"
        },
        "outputId": "e271a753-5354-4e3d-db7e-d970a5a56bf5"
      },
      "execution_count": 17,
      "outputs": [
        {
          "output_type": "stream",
          "name": "stdout",
          "text": [
            "84.9\n",
            "19.849999999999994\n"
          ]
        }
      ]
    }
  ]
}