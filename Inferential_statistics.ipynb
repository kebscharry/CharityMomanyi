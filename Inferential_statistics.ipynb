{
  "nbformat": 4,
  "nbformat_minor": 0,
  "metadata": {
    "colab": {
      "provenance": [],
      "authorship_tag": "ABX9TyPhbIm06KrKSWWca43aL5Yp",
      "include_colab_link": true
    },
    "kernelspec": {
      "name": "python3",
      "display_name": "Python 3"
    },
    "language_info": {
      "name": "python"
    }
  },
  "cells": [
    {
      "cell_type": "markdown",
      "metadata": {
        "id": "view-in-github",
        "colab_type": "text"
      },
      "source": [
        "<a href=\"https://colab.research.google.com/github/kebscharry/CharityMomanyi/blob/main/Inferential_statistics.ipynb\" target=\"_parent\"><img src=\"https://colab.research.google.com/assets/colab-badge.svg\" alt=\"Open In Colab\"/></a>"
      ]
    },
    {
      "cell_type": "code",
      "execution_count": 2,
      "metadata": {
        "id": "26ewtLPUdmlH"
      },
      "outputs": [],
      "source": [
        "# simple random sampling\n",
        "#population of 1000 individual\n",
        "import numpy as np\n",
        "population = np.arange(1, 1001)\n"
      ]
    },
    {
      "cell_type": "code",
      "source": [
        "# sample size\n",
        "sample_size = 100\n"
      ],
      "metadata": {
        "id": "7ipds2K0d1iD"
      },
      "execution_count": 3,
      "outputs": []
    },
    {
      "cell_type": "code",
      "source": [
        "# set seed for reproducibility\n",
        "np.random.seed(123)"
      ],
      "metadata": {
        "id": "DHvtjrgCeGgr"
      },
      "execution_count": 4,
      "outputs": []
    },
    {
      "cell_type": "code",
      "source": [
        "# simple random sample\n",
        "sample = np.random.choice(population, sample_size, replace=False)\n",
        "print(\"sample:\", sample)"
      ],
      "metadata": {
        "colab": {
          "base_uri": "https://localhost:8080/"
        },
        "id": "H_A2_tRHePWQ",
        "outputId": "6a505b1a-169f-45f6-a6c9-2c0ea5e662bf"
      },
      "execution_count": 5,
      "outputs": [
        {
          "output_type": "stream",
          "name": "stdout",
          "text": [
            "sample: [132 204  51 586 139 633 329 462 925 480 196 222 210 379 157 328 762 321\n",
            " 275 418 373 300 230 897 595 984 737  86 883   8 723  44 567 318 875 744\n",
            " 354 146 347 591 772 337 634 311 694 692 339 902 319 353 162 543 787 918\n",
            " 388 197 649 168 598 393 804 537 173 831 183 703 785 614 966 172 346 823\n",
            " 878 148 549 643 972 935 185 608 438 267 809 448 714 115 657 986 427   6\n",
            " 641 987 933  42 135 939 815 995 806 559]\n"
          ]
        }
      ]
    },
    {
      "cell_type": "code",
      "source": [],
      "metadata": {
        "id": "LbYiQUytef1O"
      },
      "execution_count": null,
      "outputs": []
    }
  ]
}