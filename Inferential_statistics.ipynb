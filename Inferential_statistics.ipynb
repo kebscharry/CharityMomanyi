{
  "nbformat": 4,
  "nbformat_minor": 0,
  "metadata": {
    "colab": {
      "provenance": [],
      "authorship_tag": "ABX9TyMqb6GA2If1qtfggA1SVqUe",
      "include_colab_link": true
    },
    "kernelspec": {
      "name": "python3",
      "display_name": "Python 3"
    },
    "language_info": {
      "name": "python"
    }
  },
  "cells": [
    {
      "cell_type": "markdown",
      "metadata": {
        "id": "view-in-github",
        "colab_type": "text"
      },
      "source": [
        "<a href=\"https://colab.research.google.com/github/kebscharry/CharityMomanyi/blob/main/Inferential_statistics.ipynb\" target=\"_parent\"><img src=\"https://colab.research.google.com/assets/colab-badge.svg\" alt=\"Open In Colab\"/></a>"
      ]
    },
    {
      "cell_type": "code",
      "execution_count": 2,
      "metadata": {
        "id": "26ewtLPUdmlH"
      },
      "outputs": [],
      "source": [
        "# simple random sampling\n",
        "#population of 1000 individual\n",
        "import numpy as np\n",
        "population = np.arange(1, 1001)\n"
      ]
    },
    {
      "cell_type": "code",
      "source": [
        "# sample size\n",
        "sample_size = 100\n"
      ],
      "metadata": {
        "id": "7ipds2K0d1iD"
      },
      "execution_count": 3,
      "outputs": []
    },
    {
      "cell_type": "code",
      "source": [
        "# set seed for reproducibility\n",
        "np.random.seed(123)"
      ],
      "metadata": {
        "id": "DHvtjrgCeGgr"
      },
      "execution_count": 4,
      "outputs": []
    },
    {
      "cell_type": "code",
      "source": [
        "# simple random sample\n",
        "sample = np.random.choice(population, sample_size, replace=False)\n",
        "print(\"sample:\", sample)"
      ],
      "metadata": {
        "colab": {
          "base_uri": "https://localhost:8080/"
        },
        "id": "H_A2_tRHePWQ",
        "outputId": "6a505b1a-169f-45f6-a6c9-2c0ea5e662bf"
      },
      "execution_count": 5,
      "outputs": [
        {
          "output_type": "stream",
          "name": "stdout",
          "text": [
            "sample: [132 204  51 586 139 633 329 462 925 480 196 222 210 379 157 328 762 321\n",
            " 275 418 373 300 230 897 595 984 737  86 883   8 723  44 567 318 875 744\n",
            " 354 146 347 591 772 337 634 311 694 692 339 902 319 353 162 543 787 918\n",
            " 388 197 649 168 598 393 804 537 173 831 183 703 785 614 966 172 346 823\n",
            " 878 148 549 643 972 935 185 608 438 267 809 448 714 115 657 986 427   6\n",
            " 641 987 933  42 135 939 815 995 806 559]\n"
          ]
        }
      ]
    },
    {
      "cell_type": "code",
      "source": [
        "height = [165, 170, 168, 172, 169, 171, 166, 173, 167, 174]"
      ],
      "metadata": {
        "id": "LbYiQUytef1O"
      },
      "execution_count": 6,
      "outputs": []
    },
    {
      "cell_type": "code",
      "source": [
        "sample_mean = np.mean(height)"
      ],
      "metadata": {
        "id": "BN9JVezMlMkj"
      },
      "execution_count": 8,
      "outputs": []
    },
    {
      "cell_type": "code",
      "source": [
        "sample_sd = np.std(height, ddof=1)"
      ],
      "metadata": {
        "id": "sZDeOmdnlSZn"
      },
      "execution_count": 9,
      "outputs": []
    },
    {
      "cell_type": "code",
      "source": [
        "n = len(height)"
      ],
      "metadata": {
        "id": "YWvTEOCllln9"
      },
      "execution_count": 10,
      "outputs": []
    },
    {
      "cell_type": "code",
      "source": [
        "# standard error of mean\n",
        "sem = sample_sd / np.sqrt(n)"
      ],
      "metadata": {
        "id": "QVTNWhEVlpEc"
      },
      "execution_count": 11,
      "outputs": []
    },
    {
      "cell_type": "code",
      "source": [
        "# confidence interval\n",
        "confidence_interval = (sample_mean - 1.96 * sem, sample_mean + 1.96 * sem)"
      ],
      "metadata": {
        "id": "ilD8upZCmEpv"
      },
      "execution_count": 12,
      "outputs": []
    },
    {
      "cell_type": "code",
      "source": [
        "print(f\"95% confidence interval: [{confidence_interval[0]:.2f}, {confidence_interval[1]:.2f}]\")"
      ],
      "metadata": {
        "colab": {
          "base_uri": "https://localhost:8080/"
        },
        "id": "R9yeHYQUmW-m",
        "outputId": "3e768112-0706-4f58-ac15-dd77486d7ce3"
      },
      "execution_count": 13,
      "outputs": [
        {
          "output_type": "stream",
          "name": "stdout",
          "text": [
            "95% confidence interval: [167.62, 171.38]\n"
          ]
        }
      ]
    },
    {
      "cell_type": "code",
      "source": [
        "# constructing a confidence intervals\n",
        "import pandas as pd\n",
        "import numpy as np\n",
        "import scipy.stats as stats"
      ],
      "metadata": {
        "id": "Nouys7gwm54z"
      },
      "execution_count": 14,
      "outputs": []
    },
    {
      "cell_type": "code",
      "source": [
        "ch = pd.read_csv('/content/Cholera outbreak dataset.xlsx - Dataset.csv')"
      ],
      "metadata": {
        "id": "dx81f2OtoVAH"
      },
      "execution_count": 15,
      "outputs": []
    },
    {
      "cell_type": "code",
      "source": [
        "sample_mean = ch['Age'].mean()"
      ],
      "metadata": {
        "id": "RMS3_f13ohvz"
      },
      "execution_count": 16,
      "outputs": []
    },
    {
      "cell_type": "code",
      "source": [
        "sample_std = ch['Age'].std()"
      ],
      "metadata": {
        "id": "yUCEqM9kopb-"
      },
      "execution_count": 17,
      "outputs": []
    },
    {
      "cell_type": "code",
      "source": [
        "n = len(ch['Age'])"
      ],
      "metadata": {
        "id": "cLK8bocPo0wT"
      },
      "execution_count": 18,
      "outputs": []
    },
    {
      "cell_type": "code",
      "source": [
        "conf_level = 0.95\n",
        "alpha=1-conf_level"
      ],
      "metadata": {
        "id": "qabuv-5zo7GW"
      },
      "execution_count": 19,
      "outputs": []
    },
    {
      "cell_type": "code",
      "source": [
        "df = n - 1\n",
        "t_critical=stats.t.ppf(1-alpha/2, df)\n",
        "print(t_critical)"
      ],
      "metadata": {
        "colab": {
          "base_uri": "https://localhost:8080/"
        },
        "id": "YX0yf9hXpFIC",
        "outputId": "05d14fe2-127a-4e4c-871a-da581029a76c"
      },
      "execution_count": 21,
      "outputs": [
        {
          "output_type": "stream",
          "name": "stdout",
          "text": [
            "1.9676211333064952\n"
          ]
        }
      ]
    },
    {
      "cell_type": "code",
      "source": [
        "#margin error\n",
        "margin = t_critical * (sample_std / np.sqrt(n))\n",
        "#confidence interval\n",
        "# construct the confidence interval (using z-score for 95% confidence)\n",
        "confidence_interval = (sample_mean - margin, sample_mean + margin)"
      ],
      "metadata": {
        "id": "hbBXrDTOpPQE"
      },
      "execution_count": 22,
      "outputs": []
    },
    {
      "cell_type": "code",
      "source": [
        "# print the confidence interval\n",
        "print(f\"95% Confidence Interval: [{confidence_interval[0]:.2f}, {confidence_interval[1]:.2f}]\")"
      ],
      "metadata": {
        "colab": {
          "base_uri": "https://localhost:8080/"
        },
        "id": "ZgV4NV1iq6VQ",
        "outputId": "a9e7fb05-3a41-4663-c021-9a860cc7e7e1"
      },
      "execution_count": 23,
      "outputs": [
        {
          "output_type": "stream",
          "name": "stdout",
          "text": [
            "95% Confidence Interval: [26.10, 30.66]\n"
          ]
        }
      ]
    },
    {
      "cell_type": "code",
      "source": [],
      "metadata": {
        "id": "-4GmUwJprTO2"
      },
      "execution_count": null,
      "outputs": []
    }
  ]
}