{
  "cells": [
    {
      "cell_type": "markdown",
      "metadata": {
        "id": "view-in-github",
        "colab_type": "text"
      },
      "source": [
        "<a href=\"https://colab.research.google.com/github/kebscharry/CharityMomanyi/blob/main/Probability.ipynb\" target=\"_parent\"><img src=\"https://colab.research.google.com/assets/colab-badge.svg\" alt=\"Open In Colab\"/></a>"
      ]
    },
    {
      "cell_type": "markdown",
      "source": [
        "## Basics of Probability and Probability Distributions\n",
        "Author: Dr. Anne"
      ],
      "metadata": {
        "id": "1bcfafdc-f6f5-40a0-adab-755de2b435f9"
      },
      "id": "1bcfafdc-f6f5-40a0-adab-755de2b435f9"
    },
    {
      "cell_type": "markdown",
      "id": "7518af8f-deaf-4adb-ba3d-b8a155b2137e",
      "metadata": {
        "id": "7518af8f-deaf-4adb-ba3d-b8a155b2137e"
      },
      "source": [
        "\n",
        "### Introduction\n",
        "\n",
        "Probability and probability distributions are fundamental concepts in Data Science.They provide a framework for making informed decisions through among other aspects interpreting data, making predictions as well as evaluating the accuracy of the predictions made.\n",
        "\n",
        "Applying these concepts to solve public health issues  enables for  better understanding of health trends, designing of effective interventions and ultimately improvement of health outcomes.\n",
        "\n",
        "### Expected learning outcomes   \n",
        "\n",
        "By the of this topic you should be able to:\n",
        "\n",
        "1.\tDescribe basic rules governing the concept of probability.\n",
        "2.\tCompute probabilities of occurrence of an event.\n",
        "3.\tInterpret the significance of probability results and the implications (odds ratio, p value)\n",
        "4.\tApply probability distributions to solve practical problems in data science.\n",
        "\n",
        "### Fundamentals of Probability:\n",
        "\n",
        "Probability provides information about the chance or likelihood associated with the occurrence of different outcomes in situations where a number of possible outcomes may occur.\n",
        "\n",
        "Before giving a formal definition for probability, let us define some basic terms used in probability that will  aid in understanding  the definition of probability:\n",
        "\n",
        "(a)\t***Random experiment***: It is any process or procedure that produces definite outcomes (also referred to as results) which cannot be predicted with certainty; i.e.  the actual outcome cannot be determined before carrying out the process\n",
        "\n",
        "    A random experiment can be repeated numerous times under the same condition leading to different results. In this case each repetition of a random experiment is called a _trial_.\n",
        "\n",
        "    Examples of random experiment include:\n",
        "\n",
        "    (i)\tObserve the genders of children with respect to birth order in two-child families\n",
        "    (ii) Count the number of randomly selected teenagers enrolled in a community awareness program who consume alcohol.\n",
        "    (iii)\tMeasure the birth weights of sample of infants born at a local hospital.\n",
        "\n",
        "Although the outcomes(results) of a random experiment cannot be predicted  with certainty, the set of all possible outcomes can be defined.\n",
        "\n",
        "(b)\t***Sample space***: It is the set or collection of all possible outcomes of the random experiment conducted.\n",
        "\n",
        "    For the examples mentioned earlier the sample space in each case is:\n",
        "\n",
        "    (i)\tFor the experiment of observing the genders of the two children, the possible results would be: both first and second born are boys; both first and second born are girls; first born is boy and second born a girl; and finally, first born is girl and second born is boy.Hence the sample space is    \n",
        "               S={(boy, boy), (boy, girl), (girl, boy), (girl, girl)}\n",
        "            \n",
        "    (ii)\tThe experiment on alcohol consumption, the number is anything from zero to as many teenagers as are enrolled. For example, if ten teenagers are enrolled then the sample space is        \n",
        "S= {0,1,2,3,4,5,6,7,8,9,10}\n",
        "    (iii)\tFor the weights of new born babies, the measure is any value above zero up to heaviest weight. Assuming the heaviest weight is six kilograms then the sample space is    \n",
        "                  $\\textrm{S}=\\{x| 0 < x \\le 6 \\}$ ; x is weight of baby\n",
        "\n",
        "Depending on the question at hand the interest is usually in smaller collections of outcomes from sample space\n",
        "\n",
        "(c) ***Event***: It is simply a subset or subgroup of the sample space. It contains fewer outcomes than the sample space it is drawn from.\n",
        "\n",
        "    Using the examples sample spaces above some of the events we can define are:\n",
        "\n",
        "    (i)\tThe event that at least of the children in a two-child family is a girl.   \n",
        "                       E={(boy, girl), (girl, boy), (girl, girl)}\n",
        "    (ii) At most five teenagers consume alcohol\n",
        "E={0,1,2,3,4,5}\n",
        "    (iii)\t The new born has low birth weight. Now a baby is considered to have low birth weight if weight is less than 2.5kgs hence    \n",
        "                     E={x| 0< x < 2.5}\n",
        "\n",
        "    Notice in all cases the collection of outcomes in event are fewer than those contained in the sample space.\n",
        "\n",
        "Now we can define probability:\n",
        "\n",
        "\n",
        "**Probability** is a measure of the likelihood of an event occurring, it quantifies how likely the occurrence of a particular event is.\n",
        "\n",
        "For a random experiment that is such that each outcome is equally likely to occur, then the probability of an event occurring is given by\n",
        "  $$ \\textrm{Prob(Event)}=\\frac{\\textrm{number of outcomes in the event}}{\\textrm{number of events in the sample space}} $$\n",
        "\n",
        "Similarly if the random experiment is such that it repeated numerous times then probability is long run proportion of the occurrence of the event\n",
        "\n",
        "$$ \\textrm{Prob(Event)}=\\frac{\\textrm{number of times the event occurs}}{\\textrm{total number of trials}} $$\n",
        "\n",
        "\n",
        "_Examples_:\n",
        "\n",
        "(1)\tFor the random experiment of observing the genders of the children in two-child families with respect to order of birth, find the probability that at least one of the children is a boy\n",
        "\n",
        "_Solution_:\n",
        "\n",
        "Let E be the event of interest; E=.{(\"girl,girl\"),(\"boy,girl\"),(\"girl,boy\")} , E has three outcomes.\n",
        "The sample has four outcomes {(\"girl,girl\"),(\"boy,boy\"),(\"boy,girl\"),(\"girl,boy\")} , so applying the formula\n",
        " \\textrm{Prob(E)}=\\frac{\\textrm{number of outcomes in E}}{\\textrm{number of events in S}} =\\frac{3}{4}=0.75$$\n",
        "now computing this in R\n"
      ]
    },
    {
      "cell_type": "code",
      "execution_count": null,
      "id": "69215dcd-5fdf-49f6-a700-d0ce41dd5379",
      "metadata": {
        "id": "69215dcd-5fdf-49f6-a700-d0ce41dd5379",
        "outputId": "2528b7fe-e0d0-4af0-9426-8e84051915fa",
        "colab": {
          "base_uri": "https://localhost:8080/"
        }
      },
      "outputs": [
        {
          "output_type": "stream",
          "name": "stdout",
          "text": [
            "0.75\n"
          ]
        }
      ],
      "source": [
        "# the sample space S and event E\n",
        "S = [(\"girl\", \"girl\"), (\"boy\", \"boy\"), (\"boy\", \"girl\"), (\"girl\", \"boy\")]\n",
        "E = [(\"boy\", \"boy\"), (\"boy\", \"girl\"), (\"girl\", \"boy\")]\n",
        "# use len() to count the elements in S and E\n",
        "# and use these numbers to compute the probability\n",
        "\n",
        "Pr = len(E) / len(S)\n",
        "print(Pr)\n"
      ]
    },
    {
      "cell_type": "markdown",
      "id": "99bceecb-32a2-4752-bd92-add49c473197",
      "metadata": {
        "id": "99bceecb-32a2-4752-bd92-add49c473197"
      },
      "source": [
        "the probability that there is at least one boy is 0.75."
      ]
    },
    {
      "cell_type": "markdown",
      "id": "6b9ed3e0-9f92-40b2-b69b-7d116e3cb45a",
      "metadata": {
        "id": "6b9ed3e0-9f92-40b2-b69b-7d116e3cb45a"
      },
      "source": [
        "(2)\tA public health campaign is carried out to reduce  tobacco use among university students. 1044 students selected indicated they do not use tobacco while 456 indicated they use tobacco. If a student in this group is randomly selected, what is the probability that he uses tobacco?\n",
        "\n",
        "_Solution_:\n",
        "the event is using tobacco hence to compute the required probability we use the formula\n",
        "$$ \\textrm{Prob(Event)}=\\frac{\\textrm{number of times the event occurs}}{\\textrm{total number of trials}}=\\frac{456}{1500}=0.304 $$\n",
        "\n",
        "the probability that a student use tobacco is 0.3.\n",
        "\n",
        "### Properties of probability:\n",
        "\n",
        "(1)\tThe probability of an event lies between **zero** and **one**; i.e. it is any real number between zero and one  \n",
        "( $0 < \\textrm{Prob(event)} < 1$)\n",
        "     \n",
        "    It can be also expressed as a proportion or percentage.\n",
        "\n",
        "(2)\tThe sum of probabilities of all outcomes is **one**; i.e. for sample space S, ___Prob(S)=1___\n",
        "(3)\tThe probability  of the complement of an event(i.e. the event does not occur) is equal to one minus the probability that it occurs\n",
        "\n",
        "    ___Prob(complement of event)=Prob(event does not occur)=1- Prob(event occurs)___\n",
        "(4)\tFor any two events say A and B, the probability that either Event A or Event B occurs is equal to the probability that Event A occurs plus the probability that Event B occurs minus the probability that both Events A and B occur (both events occur simultaneously)\n",
        "\n",
        "    ___Prob(A or B) = Prob(A)+Prob(B) – Prob(A and B)___\n",
        "    \n",
        "    In the case where the events are mutually exclusive (both events cannot occur at the same time) , the probability that either Event A or Event B occurs is equal to the that Event A occurs plus the probability that Event B\n",
        "\n",
        "    ___Prob(A or B) = Prob(A)+Prob(B) ___\n",
        "\n",
        "(5)\tFor two independent events (neither event influences whether the other will occur or not occur) the probability of the two events occurring simultaneously is the product of their respective probabilities of occurrence.\n",
        "\n",
        "    If events A and B are independent then\n",
        "\n",
        "    ___Prob(A and B) = Prob(A) $\\times$ Prob(B)___\n",
        "        \n",
        "\n",
        "_Examples_\n",
        "\n",
        "1.\tThe table below gives the incidence of fractures among women classified by age group\n",
        "\\begin{center}\n",
        "\\begin{tabular}{|c|c|c|}\n",
        "    \\hline\n",
        " \\multirow{2}{*}{Age group} &\n",
        " \\multicolumn{2}{c |}{Incidence of fractures}\\\\\n",
        "  \\cline{2-3}\n",
        "  &Yes&No\\\\\n",
        "    \\hline\n",
        "  70 to 79 yrs&27&63\\\\\n",
        "  80 to 89 yrs &15&35\\\\\n",
        "  90 and above yrs&9&21\\\\\n",
        "  \\hline\n",
        "\\end{tabular}\n",
        "\\end{center}\n",
        "\n",
        "Define the following events:\n",
        "\n",
        "    F be the event that a woman has a fracture\n",
        "    A be the event that the woman is 90+ years old\n",
        "    B be the event that a woman is in age bracket  70- 79.\n",
        "\n",
        "Find\n",
        "\n",
        "(a)\tProb(A or B). Are the two events mutually exclusive?\n",
        "\n",
        "_Solution_\n",
        "number of outcomes in A = number of women who are 90 years and above irrespective of whether or not they had fractures= 9+21=30\n",
        "    \n",
        "number of outcomes in B = number of women who are 70-79years  irrespective of whether or not they had fractures= 27+63=90\n",
        "    \n",
        "number of outcomes in A and B = 0 since a woman cannot in in age bracket 70-79 and still in age bracket 90 and above\n",
        "\n",
        "therefore\n",
        "\n",
        "$\n",
        "\\begin{eqnarray*}\n",
        "\\textrm{Prob(A or B)}&=&\\textrm{Prob(A)}+\\textrm{Prob(B)}\\\\\n",
        "&=&\\frac{\\textrm{number of outcomes in A}}{\\textrm{number of events in S}}+ \\frac{\\textrm{number of outcomes in B}}{\\textrm{number of events in S}}\\\\ \\\\\n",
        "&=&\\frac{30}{170}+\\frac{90}{170}\\\\\n",
        "&=&\\frac{120}{170}=0.71\n",
        "\\end{eqnarray*}\n",
        "$\n",
        "\n",
        "computing this probability in Python\n"
      ]
    },
    {
      "cell_type": "code",
      "execution_count": null,
      "id": "2ca8d218-a9cd-45a9-8d2a-9584d33c538f",
      "metadata": {
        "id": "2ca8d218-a9cd-45a9-8d2a-9584d33c538f",
        "outputId": "c1735e21-878c-494c-8939-0ce4c0ad830d",
        "colab": {
          "base_uri": "https://localhost:8080/"
        }
      },
      "outputs": [
        {
          "output_type": "stream",
          "name": "stdout",
          "text": [
            "0.7058823529411765\n",
            "0.71\n"
          ]
        }
      ],
      "source": [
        "import pandas as pd\n",
        "\n",
        "# the table for computing probabilities\n",
        "#Create a pandas DataFrame named tab with two columns: 'Fracture_yes' and 'Fracture_no'.\n",
        "tab = pd.DataFrame({'Fracture_yes': [27, 15, 9], 'Fracture_no': [63, 35, 21]})\n",
        "\n",
        "# to get the numbers to compute the probabilities then use syntax\n",
        "# tab.iloc[position in row, position in column]\n",
        "# to get the total number we use tab.values.sum()\n",
        "prA = (tab.iloc[2, 0] + tab.iloc[2, 1]) / tab.values.sum()  # computes Prob(A)\n",
        "prB = (tab.iloc[0, 0] + tab.iloc[0, 1]) / tab.values.sum()  # computes Prob(B)\n",
        "print(prA + prB)  # probability Prob(A or B)\n",
        "print(round(prA + prB, 2))  # round off probability to two decimal points\n"
      ]
    },
    {
      "cell_type": "code",
      "execution_count": null,
      "metadata": {
        "outputId": "c1735e21-878c-494c-8939-0ce4c0ad830d",
        "colab": {
          "base_uri": "https://localhost:8080/"
        },
        "id": "ZPqwZR2yYV3J"
      },
      "outputs": [
        {
          "output_type": "stream",
          "name": "stdout",
          "text": [
            "0.7058823529411765\n",
            "0.71\n"
          ]
        }
      ],
      "source": [
        "import pandas as pd\n",
        "\n",
        "# the table for computing probabilities\n",
        "tab = pd.DataFrame({'Fracture_yes': [27, 15, 9], 'Fracture_no': [63, 35, 21]})\n",
        "\n",
        "# to get the numbers to compute the probabilities then use syntax\n",
        "# tab.iloc[position in row, position in column]\n",
        "# to get the total number we use tab.values.sum()\n",
        "prA = (tab.iloc[2, 0] + tab.iloc[2, 1]) / tab.values.sum()  # computes Prob(A)\n",
        "prB = (tab.iloc[0, 0] + tab.iloc[0, 1]) / tab.values.sum()  # computes Prob(B)\n",
        "print(prA + prB)  # probability Prob(A or B)\n",
        "print(round(prA + prB, 2))  # round off probability to two decimal points\n"
      ],
      "id": "ZPqwZR2yYV3J"
    },
    {
      "cell_type": "markdown",
      "id": "8bb2af1c-ace0-4499-8043-7fc112cdc604",
      "metadata": {
        "id": "8bb2af1c-ace0-4499-8043-7fc112cdc604"
      },
      "source": [
        "\n",
        "the probability that a woman is either in age bracket 70-79 or in age bracket 90+ is 0.71. The two events are mutually exclusive\n",
        "\n",
        "(b)\tProb(F and A) Are the two events independent?"
      ]
    },
    {
      "cell_type": "code",
      "execution_count": null,
      "id": "775058fc-caee-48e6-834b-405fc0f6ecd1",
      "metadata": {
        "id": "775058fc-caee-48e6-834b-405fc0f6ecd1",
        "outputId": "904a0d5c-94d5-4493-e55e-262ac6f776d0"
      },
      "outputs": [
        {
          "name": "stdout",
          "output_type": "stream",
          "text": [
            "0.052941176470588235\n",
            "0.052941176470588235\n"
          ]
        }
      ],
      "source": [
        "prA = (tab.iloc[2, 0] + tab.iloc[2, 1]) / tab.values.sum()  # computes Prob(A)\n",
        "prF = (tab.iloc[0, 0] + tab.iloc[1, 0] + tab.iloc[2, 0]) / tab.values.sum()  # computes Prob(F)\n",
        "prAF = tab.iloc[2, 0] / tab.values.sum()  # computes the prob(F and A) which is the same as Prob(A and F)\n",
        "print(prA * prF)  # the product Prob(A)*Prob(F)\n",
        "print(prAF)\n"
      ]
    },
    {
      "cell_type": "markdown",
      "id": "3959c135-533f-4425-8bd2-41e12edf02e1",
      "metadata": {
        "id": "3959c135-533f-4425-8bd2-41e12edf02e1"
      },
      "source": [
        "\n",
        "the two probabilities are equal; i.e. $\\textrm{Prob(A)}\\times \\textrm{Prob(F)}=\\textrm{Prob(A and F)}$, hence the two events are independent of each other. A woman having a fracture is not dependent on whether or not she is 90 or above years old.\n",
        "\n",
        "2.\tThe following table below shows incidence of Myocardial infarction (denoted MI) for women who had used oral contraceptives(OC) and women who had never used oral contraceptives.\n",
        "\n",
        "\\begin{center}\n",
        "\\begin{tabular}{|c|c|c|}\n",
        "    \\hline\n",
        " \\multirow{2}{*}{OC use} &\n",
        " \\multicolumn{2}{c |}{MI status}\\\\\n",
        "  \\cline{2-3}\n",
        "  &Yes&No\\\\\n",
        "    \\hline\n",
        "  Yes&75&95\\\\\n",
        "  No&20&210\\\\\n",
        "  \\hline\n",
        "\\end{tabular}\n",
        "\\end{center}\n",
        "\n",
        "\n",
        "Let A = {woman used oral contraceptives} and let B = {woman had an MI episode}\n",
        "\n",
        "Find\n",
        "\n",
        "(a)\tProb(A)\n"
      ]
    },
    {
      "cell_type": "code",
      "execution_count": null,
      "id": "3b638e51-292c-4ee4-9507-0069e031fb4b",
      "metadata": {
        "id": "3b638e51-292c-4ee4-9507-0069e031fb4b",
        "outputId": "cb77b14f-7f4f-448e-c943-1bdc46417b7a",
        "colab": {
          "base_uri": "https://localhost:8080/"
        }
      },
      "outputs": [
        {
          "output_type": "stream",
          "name": "stdout",
          "text": [
            "0.42\n"
          ]
        }
      ],
      "source": [
        "# new table for computing probabilities\n",
        "tabs = pd.DataFrame({'MI_yes': [75, 20], 'MI_no': [95, 210]})\n",
        "\n",
        "prA = (tabs.iloc[0, 0] + tabs.iloc[0, 1]) / tabs.values.sum()  # computes Prob(A)\n",
        "print(round(prA, 2))\n"
      ]
    },
    {
      "cell_type": "markdown",
      "id": "10c19628-ab03-403d-847b-fa2833bd9ce7",
      "metadata": {
        "id": "10c19628-ab03-403d-847b-fa2833bd9ce7"
      },
      "source": [
        "the probability that a woman used oral contracpetives is 0.42\n",
        "\n",
        "(b)\tProb(Complement of B)\n"
      ]
    },
    {
      "cell_type": "code",
      "execution_count": null,
      "id": "821b9644-302a-4e6b-8eab-a962ba208ff2",
      "metadata": {
        "id": "821b9644-302a-4e6b-8eab-a962ba208ff2",
        "outputId": "e151feb7-6d5e-405e-a958-6509da67a34d"
      },
      "outputs": [
        {
          "name": "stdout",
          "output_type": "stream",
          "text": [
            "0.76\n"
          ]
        }
      ],
      "source": [
        "prB = (tabs.iloc[0, 0] + tabs.iloc[1, 0]) / tabs.values.sum()  # computes Prob(B)\n",
        "complementB = 1 - prB  # compute the probability of the complement of B\n",
        "                      # i.e., (probability that B does not occur)\n",
        "print(round(complementB, 2))\n"
      ]
    },
    {
      "cell_type": "markdown",
      "id": "c9523218-8233-49b5-9e16-869a55e0e638",
      "metadata": {
        "id": "c9523218-8233-49b5-9e16-869a55e0e638"
      },
      "source": [
        "the probability that a womwn did not have a myocardial infraction episode is 0.76\n",
        "\n",
        "c.\tProb(A or B)"
      ]
    },
    {
      "cell_type": "code",
      "execution_count": null,
      "id": "bb44b127-086b-46ac-a13a-52cc9106e05e",
      "metadata": {
        "id": "bb44b127-086b-46ac-a13a-52cc9106e05e",
        "outputId": "82abb659-9a73-4f09-faa7-8f8393c4cd72"
      },
      "outputs": [
        {
          "name": "stdout",
          "output_type": "stream",
          "text": [
            "0.48\n"
          ]
        }
      ],
      "source": [
        "# required probability is Prob(A) + Prob(B) - Prob(A and B)\n",
        "prA = (tabs.iloc[0, 0] + tabs.iloc[0, 1]) / tabs.values.sum()\n",
        "prB = (tabs.iloc[0, 0] + tabs.iloc[1, 0]) / tabs.values.sum()\n",
        "prAB = tabs.iloc[0, 0] / tabs.values.sum()\n",
        "result = prA + prB - prAB\n",
        "print(round(result, 2))\n"
      ]
    },
    {
      "cell_type": "markdown",
      "id": "71e24656-3dd1-41ad-a16f-22cf6a0cb1bb",
      "metadata": {
        "id": "71e24656-3dd1-41ad-a16f-22cf6a0cb1bb"
      },
      "source": [
        "\n",
        "the probability that a woman either used oral contraceptives or had a myocardial infraction  episode is 0.48\n",
        "\n",
        "### Conditional probability:\n",
        "\n",
        "___Conditional probability___ is a measure of the likelihood of an event occurring given that another event has already occurred.\n",
        "Let A and B be two events defined on a sample space S.\n",
        "\n",
        "The conditional probability of event B occurring given that event A has occurred is given by\n",
        "$$\\textrm{Prob}(B|A) = \\frac{\\textrm{Prob (A and B)}}{\\textrm{Prob(A)}}$$\n",
        "Prob(B|A) is read as probability of B given A\n",
        "\n",
        "When in a random experiment the event A is known to have occurred the possible outcomes of the experiment are reduced to A and hence the probability of event B occurring is changed from an unconditional to conditional probability\n",
        "\n",
        "__Example__ Using previous example, find the conditional probability that a woman uses oral contraception given that she has had mycordial infraction\n"
      ]
    },
    {
      "cell_type": "code",
      "execution_count": null,
      "id": "c3a16312-4324-40de-acf0-6f18436a4e27",
      "metadata": {
        "id": "c3a16312-4324-40de-acf0-6f18436a4e27",
        "outputId": "4803eaa3-83af-434f-971c-edf23352ebed"
      },
      "outputs": [
        {
          "name": "stdout",
          "output_type": "stream",
          "text": [
            "0.79\n"
          ]
        }
      ],
      "source": [
        "# required probability is Prob(A|B) = Prob(A and B) / Prob(B)\n",
        "prB = (tabs.iloc[0, 0] + tabs.iloc[1, 0]) / tabs.values.sum()\n",
        "prAB = tabs.iloc[0, 0] / tabs.values.sum()\n",
        "res = prAB / prB\n",
        "print(round(res, 2))\n"
      ]
    },
    {
      "cell_type": "markdown",
      "id": "4f8b05a9-1ee5-4320-8b42-f5ee5da735ad",
      "metadata": {
        "id": "4f8b05a9-1ee5-4320-8b42-f5ee5da735ad"
      },
      "source": [
        "\n",
        "that probability that a woman who has had myocardial infraction  used oral contraceptives is 0.79. There is 79% chance that a woman used oral contraceptives among women who had myocardial infraction.\n",
        "\n",
        "_Example_\n",
        "Among youth in a certain community , 54% % of them smoke; 72% take alcohol and 38% both smoke and take alcohol. What is the probability that  a youth in this community;\n",
        "\n",
        "    (i) either smokes or takes alcohol\n",
        "    (ii) takes alcohol given that he/she smokes\n",
        "\n",
        "\n",
        "_Solution_\n",
        "(i) Prob(Smoke or take alcohol)\n"
      ]
    },
    {
      "cell_type": "code",
      "execution_count": null,
      "id": "e5b3e0db-fac2-48c6-b9a7-3ad0d5a62973",
      "metadata": {
        "id": "e5b3e0db-fac2-48c6-b9a7-3ad0d5a62973",
        "outputId": "31cdf0fc-0e27-4457-d759-a1809d547c1c"
      },
      "outputs": [
        {
          "name": "stdout",
          "output_type": "stream",
          "text": [
            "0.88\n"
          ]
        }
      ],
      "source": [
        "# let Sm = event that youth is smoker\n",
        "#     Al = event that youth takes alcohol\n",
        "Pr_Sm = 0.54  # Probability of being smoker\n",
        "Pr_Al = 0.72  # Probability of taking alcohol\n",
        "Pr_Sm_and_Al = 0.38  # Probability of smoking and taking alcohol\n",
        "\n",
        "# (i) Probability of smoking or taking alcohol\n",
        "# Prob(Sm or Al) = Prob(Sm) + Prob(Al) - Prob(Sm and Al)\n",
        "Pr_Sm_or_Al = Pr_Sm + Pr_Al - Pr_Sm_and_Al\n",
        "print(Pr_Sm_or_Al)\n"
      ]
    },
    {
      "cell_type": "markdown",
      "id": "9a0bbcb6-25ed-4b85-b60f-908df9aa4647",
      "metadata": {
        "id": "9a0bbcb6-25ed-4b85-b60f-908df9aa4647"
      },
      "source": [
        "the probability that a youth in this community either smokes or takes alcohol is 0.88. There is a 88% chance that a youth selcted at random is either a smoker or drinks alcohol.\n",
        "\n",
        "(ii) the required probability is a conditional probability\n"
      ]
    },
    {
      "cell_type": "code",
      "execution_count": null,
      "id": "b4e3644f-cc58-4b5a-b413-ab398e568530",
      "metadata": {
        "id": "b4e3644f-cc58-4b5a-b413-ab398e568530",
        "outputId": "b4585ab5-3ef1-446c-b308-eaaff29a5d4b"
      },
      "outputs": [
        {
          "name": "stdout",
          "output_type": "stream",
          "text": [
            "0.7037037037037037\n"
          ]
        }
      ],
      "source": [
        "# compute Prob(Al|Sm)\n",
        "Pr_Al_given_Sm = Pr_Sm_and_Al / Pr_Sm\n",
        "print(Pr_Al_given_Sm)\n"
      ]
    },
    {
      "cell_type": "markdown",
      "id": "3ea39930-6d17-4489-9407-8311e2c817d4",
      "metadata": {
        "id": "3ea39930-6d17-4489-9407-8311e2c817d4"
      },
      "source": [
        "the probability that a youth who smokes takes alcohol is 0.7. Among the youth who smoke, 70% take alcohol.\n",
        "\n",
        "\n",
        "\n",
        "More on conditional probability is discussed in the next section\n",
        "\n",
        "### Applications of probability:\n",
        "\n",
        "1. ***Diagnostic  tests***: Four characteristics are used to quantify the accuracy of tests : sensitivity, specificity, positive predictive value and negative predictive value.\n",
        "\n",
        "All these measures are ___conditional probabilities___.\n",
        "\n",
        "(i)\t**Sensitivity** is the probability of a positive test result given that the disease is present\n",
        "$$\\textrm{Prob(+ve test| disease)}= \\frac{\\textrm{Prob(+ve test and disease)}}{\\textrm{Prob(disease)}} $$\n",
        "\n",
        "(ii)**Specificity** the probability of a negative result given that the disease is not present.\n",
        "$$\\textrm{Prob(-ve test| no disease)}= \\frac{\\textrm{Prob(-ve test and no disease)}}{\\textrm{Prob(no disease)}} $$\n",
        "(iii)\t**Positive predictive value (PPV)**is the likelihood of having the disease given that the test result is positive.\n",
        "$$\\textrm{Prob(disease|+ve test)}= \\frac{\\textrm{Prob(disease and +ve test)}}{\\textrm{Prob(+ve result)}} $$\n",
        "(iv)\t**Negative predictive value (NPV)** is the likelihood of not having the disease given that the test result is negative.\n",
        "$$\\textrm{Prob(no disease|-ve test)}= \\frac{\\textrm{Prob(no disease and -ve test)}}{\\textrm{Prob(-ve result)}} $$\n",
        "If the data is summarized in a two by two table as follows:\n",
        "\n",
        "\\begin{center}\n",
        "\\begin{tabular}{|c|c|c|c|}\n",
        "    \\hline\n",
        " \\multirow{2}{*}{\\textbf{Test results}} &\n",
        " \\multicolumn{2}{c|}{\\textbf{Disease Status}}&\n",
        " \\multirow{2}{*}{\\textbf{Total}}\\\\\n",
        "  \\cline{2-3}\n",
        "  &\\textbf{Yes}&\\textbf{No}&\\\\\n",
        "    \\hline\n",
        "  \\textbf{Positive}&A&B&A+B\\\\\n",
        "  \\hline\n",
        "  \\textbf{Negative}&C&D&C+D\\\\\n",
        "  \\hline\n",
        "  \\textbf{Total}&A+C&B+D&A+B+C+D\\\\\n",
        "  \\hline\n",
        "\\end{tabular}\n",
        "\\end{center}\n",
        "\n",
        "\n",
        "where the counts have the following meanings:\n",
        "\n",
        " A = number of persons who test positive and have the disease\n",
        "\n",
        " B = number of persons who test positive and do not have the disease\n",
        "\n",
        "C = number of persons who test negative and have the disease\n",
        "\n",
        "D = number of persons who test negative and do not have the disease\n",
        "\n",
        "(B+ D) = all persons  who do not have the disease, irrespective of their test outcomes\n",
        "\n",
        "(A + C) = all persons  who have  the disease, irrespective of their est outcomes\n",
        "\n",
        "(A+ B) = all persons  who have a positive test result, irrespective of their disease status.\n",
        "\n",
        "(C + D) = all persons  who have a negative test result, irrespective  of their disease status.\n",
        "\n",
        "(A+B+C+D) = sample size\n",
        "\n",
        "then\n",
        "\n",
        "\\begin{eqnarray*}\n",
        "\\textrm{Sensitivity }&= &\\frac{A/(A+B+C+D)}{(A+C)/(A+B+C+D)}= \\frac{A}{A+C} \\\\ \\\\ \\\\\n",
        "\\textrm{Specificity }&= &\\frac{D/(A+B+C+D)}{(B+D)/(A+B+C+D)}= \\frac{D}{B+D} \\\\ \\\\ \\\\\n",
        "\\textrm{PPV}&= &\\frac{A/(A+B+C+D)}{(A+B)/(A+B+C+D)}= \\frac{A}{A+B} \\\\ \\\\ \\\\\n",
        "\\textrm{NPV}&= &\\frac{D/(A+B+C+D)}{(C+D)/(A+B+C+D)}= \\frac{D}{C+D}\n",
        "\\end{eqnarray*}\n",
        "\n",
        "__Example__\n",
        "The table below gives a summary of screening results for breast cancer using digital mammogram\n",
        "\n",
        "\\begin{center}\n",
        "\\begin{tabular}{|c|c|c|c|}\n",
        "    \\hline\n",
        " \\multirow{2}{*}{Mammogram results} &\n",
        " \\multicolumn{2}{c|}{Breast cancer Status}&\n",
        " \\multirow{2}{*}{Total}\\\\\n",
        "  \\cline{2-3}\n",
        "  &Yes&No&\\\\\n",
        "    \\hline\n",
        "  Positive&398&2749&3147\\\\\n",
        "  \\hline\n",
        "  Negative&60&31799&31853\\\\\n",
        "  \\hline\n",
        "  Total&458&34592&35000\\\\\n",
        "  \\hline\n",
        "  \\end{tabular}\n",
        "\\end{center}\n",
        "\n",
        "Compute and interpret the following measures:\n",
        "\n",
        "(a) Sensitivity\n",
        "(b) Specificity\n",
        "(c) Positive predictive value\n",
        "(d) Negative predictive value\n",
        "\n",
        "Solution:\n",
        "\n",
        "(a) Sensitivity is equal to"
      ]
    },
    {
      "cell_type": "code",
      "execution_count": null,
      "id": "e5d31581-ef4c-4015-a1fd-11244531f011",
      "metadata": {
        "id": "e5d31581-ef4c-4015-a1fd-11244531f011",
        "outputId": "97fb7ba2-a09a-4a63-ac2b-ec2f183dd89d"
      },
      "outputs": [
        {
          "name": "stdout",
          "output_type": "stream",
          "text": [
            "86.9\n"
          ]
        }
      ],
      "source": [
        "# the table to derive all the measures is\n",
        "mam = pd.DataFrame({'Disease_yes': [398, 60], 'Disease_no': [2749, 31799]})\n",
        "\n",
        "# now to compute sensitivity\n",
        "sen = mam.iloc[0, 0] / (mam.iloc[0, 0] + mam.iloc[1, 0])\n",
        "print(round(sen * 100, 2))  # rounds off the proportion then convert to percentage\n"
      ]
    },
    {
      "cell_type": "markdown",
      "id": "d6b7833b-793c-4fcc-9b4a-24694608f82f",
      "metadata": {
        "id": "d6b7833b-793c-4fcc-9b4a-24694608f82f"
      },
      "source": [
        "the digital mammogram is able to detect 86.9% of the women with breast cancer\n",
        "\n",
        "(b) Specificity is equal to"
      ]
    },
    {
      "cell_type": "code",
      "execution_count": null,
      "id": "78bb290c-4479-4cbc-82e2-80a1d289deb3",
      "metadata": {
        "id": "78bb290c-4479-4cbc-82e2-80a1d289deb3",
        "outputId": "d8ca2318-ee5b-4ba5-9d4f-e2eedd6b8dfa"
      },
      "outputs": [
        {
          "name": "stdout",
          "output_type": "stream",
          "text": [
            "92.04\n"
          ]
        }
      ],
      "source": [
        "spe = mam.iloc[1, 1] / (mam.iloc[0, 1] + mam.iloc[1, 1])\n",
        "print(round(spe * 100, 2))\n"
      ]
    },
    {
      "cell_type": "markdown",
      "id": "c4fe58b6-f56c-4d1b-9714-b88efe041626",
      "metadata": {
        "id": "c4fe58b6-f56c-4d1b-9714-b88efe041626"
      },
      "source": [
        "92% of the women who do not have breast cancer were cororectly detected as not having breast cancer using digital mammogram\n",
        "\n",
        "(c) Positive predictive value is"
      ]
    },
    {
      "cell_type": "code",
      "execution_count": null,
      "id": "bc7a5751-169b-493d-8033-152474eb83ed",
      "metadata": {
        "id": "bc7a5751-169b-493d-8033-152474eb83ed",
        "outputId": "add53c88-face-4b2b-899b-22bd2819a848"
      },
      "outputs": [
        {
          "name": "stdout",
          "output_type": "stream",
          "text": [
            "12.65\n"
          ]
        }
      ],
      "source": [
        "ppv = mam.iloc[0, 0] / (mam.iloc[0, 0] + mam.iloc[0, 1])\n",
        "print(round(ppv * 100, 2))\n"
      ]
    },
    {
      "cell_type": "markdown",
      "id": "2d225345-b7a5-4c42-a483-cb1bdd4a82bc",
      "metadata": {
        "id": "2d225345-b7a5-4c42-a483-cb1bdd4a82bc"
      },
      "source": [
        "among the women the digital mammogram detected as having breast cancer, only 13% actually had breast cancer\n",
        "\n",
        "(d) Negative predictive value is"
      ]
    },
    {
      "cell_type": "code",
      "execution_count": null,
      "id": "3efd2d86-4655-4250-b508-05067c2f6368",
      "metadata": {
        "id": "3efd2d86-4655-4250-b508-05067c2f6368",
        "outputId": "053e4bdf-63b4-4c28-f54d-d610fbf51dd1"
      },
      "outputs": [
        {
          "name": "stdout",
          "output_type": "stream",
          "text": [
            "99.81\n"
          ]
        }
      ],
      "source": [
        "npv = mam.iloc[1, 1] / (mam.iloc[1, 0] + mam.iloc[1, 1])\n",
        "print(round(npv * 100, 2))\n"
      ]
    },
    {
      "cell_type": "markdown",
      "id": "980b89d2-8763-42df-be19-f6ca1f840a73",
      "metadata": {
        "id": "980b89d2-8763-42df-be19-f6ca1f840a73"
      },
      "source": [
        "Among those the digital mammogram detected as not having breast cancer, 99.8% actually did not have breast cancer.\n",
        "\n",
        "2. ***Relative risk and Odds ratio***:\n",
        "\n",
        "The measures of relative risk and odds ratio used to explore the relationship between binary exposure variables(risk factors) and binary health outcome are anchored on probability\n",
        "\n",
        "to obtain these measures we use data summarized in the following table\n",
        "\n",
        "\\begin{center}\n",
        "\\begin{tabular}{|c|c|c|c|}\n",
        "    \\hline\n",
        " \\multirow{2}{*}{\\textbf{Exposure Status}} &\n",
        " \\multicolumn{2}{c|}{\\textbf{Disease Status}}&\n",
        " \\multirow{2}{*}{\\textbf{Total}}\\\\\n",
        "  \\cline{2-3}\n",
        "  &\\textbf{Present}&\\textbf{Not present}&\\\\\n",
        "    \\hline\n",
        "  \\textbf{Exposed}&A&B&A+B\\\\\n",
        "  \\hline\n",
        " \\textbf{Unexposed}&C&D&C+D\\\\\n",
        "  \\hline\n",
        "  Total&A+C&B+D&A+B+C+D\\\\\n",
        "  \\hline\n",
        "\\end{tabular}\n",
        "\\end{center}\n",
        "\n",
        "\n",
        "where the counts have the following meanings:\n",
        "\n",
        " A = number of persons who are exposed and have the health outcome of interest\n",
        "\n",
        " B = number of persons who are exposed and do not have the health outcome of interest\n",
        "\n",
        "C = number of persons who are unexposed and have the health outcome of interest\n",
        "\n",
        "D = number of persons who are exposed and have the health outcome of interest\n",
        "\n",
        "\n",
        "***Risk and Relative risk***:\n",
        "\n",
        "Risk is simply the probability of having the disease.\n",
        "\n",
        "The overall risk for example is $$\\frac{\\textrm{(A+C)}}{\\textrm{(A+B+C+D)}}$$\n",
        "\n",
        "\n",
        "The risk of the exposed and unexposed groups are conditional\n",
        "\n",
        "          Prob(Health outcome |Exposed) and Prob(Health outcome | Not exposed)\n",
        "\n",
        "Relative risk is simply the ratio of two measures of risk.It compares the measure of risk of exposed group to measure of risk in unexposed group.\n",
        "\n",
        "\\begin{eqnarray*}\n",
        "\\textrm{Relative Risk(RR)}&= &\\frac{\\textrm{risk(exposed)}}{\\textrm{risk(unexposed)}}\\\\ \\\\\n",
        "&=&\\frac{\\textrm{Prob(Health outcome present|Exposed)}}{\\textrm{Prob(Health outcome present |unxposed)}}\\\\ \\\\\n",
        "&=&\\frac{\\textrm{A/(A+B)}}{\\textrm{C/(C+D)}}\n",
        "\\end{eqnarray*}\n",
        "\n",
        "___Interpretation of relative risk :___\n",
        "\n",
        "(i) For value less than one, the risk of health outcome is lower for exposed group in comparison to the unexposed group, there is a negative association between health outcome and exposure. The risk is 100(1-RR) % lower for the exposed group\n",
        "(ii) For value one, the the risk is the same for both the exposed and unexposed groups. There is no association between outcome  and exposure.\n",
        "(iii) For values greater than one, the risk is higher for the exposed group compared to the unexposed group, there is a positive association between health outcome and exposure\n",
        "The risk is 100(R.R-1) % higher for exposed group\n",
        "\n",
        "_Example_\n",
        "\n",
        "The data below represents information for a cohort study on factors associated with new HIV infections among individuals who were HIV negative at the beginning. One of the factors considered was the number of sexual partners an individual has; this was classified as single partner or multiple partners(those who had two or more partners)\n",
        "\n",
        "\\begin{center}\n",
        "\\begin{tabular}{|c|c|c|}\n",
        "    \\hline\n",
        " \\multirow{2}{*}{No. of partners} &\n",
        " \\multicolumn{2}{c|}{HIV incidence}\\\\\n",
        "  \\cline{2-3}\n",
        "  &Yes&No\\\\\n",
        "    \\hline\n",
        "  Multiple&35&312\\\\\n",
        "  \\hline\n",
        " Single&62&803\\\\\n",
        "  \\hline\n",
        "\\end{tabular}\n",
        "\\end{center}\n",
        "\n",
        "Find the relative risk and interpret the value.\n",
        "\n",
        "Solution:"
      ]
    },
    {
      "cell_type": "code",
      "execution_count": null,
      "id": "e9964b1a-d30c-4577-8448-6ba9f3e86fc1",
      "metadata": {
        "id": "e9964b1a-d30c-4577-8448-6ba9f3e86fc1",
        "outputId": "5ccaace0-f932-40fc-da23-09d1284bbe07"
      },
      "outputs": [
        {
          "name": "stdout",
          "output_type": "stream",
          "text": [
            "1.29\n"
          ]
        }
      ],
      "source": [
        "hvpt = pd.DataFrame({'HIVincidence_yes': [35, 62], 'HIVincidence_not': [312, 803]})\n",
        "RR = (hvpt.iloc[0, 0] / (hvpt.iloc[0, 0] + hvpt.iloc[1, 0])) / (hvpt.iloc[0, 1] / (hvpt.iloc[0, 1] + hvpt.iloc[1, 1]))\n",
        "print(round(RR, 2))\n"
      ]
    },
    {
      "cell_type": "markdown",
      "id": "7a1238be-aa71-4491-8f04-6dd17feadd35",
      "metadata": {
        "id": "7a1238be-aa71-4491-8f04-6dd17feadd35"
      },
      "source": [
        "\n",
        "the risk of HIV incidence is higher among those with multiple sexual partners compared to those with single partners.\n",
        "The risk is $100 \\times(1.29-1) =100\\times 0.29 =29\\%$ higher among those with multiple partners.\n",
        "\n",
        "***Odds and odds ratio***:\n",
        "\n",
        "___Odds___: It is a ratio of the probabilities of two complementary events. It is the probability that an event will occur divided by the probability that the event will not occur\n",
        "$$\\textrm{Odds}=\\frac{\\textrm{Prob(event occurs)}}{\\textrm{Prob(event does not occur)}} $$\n",
        "This ratio can also be expressed as\n",
        "$$\\textrm{Odds}=\\frac{\\textrm{no. of times event occurs}}{\\textrm{no. of times event does not occur}} $$\n",
        "__Examples__:\n",
        "\n",
        "(1) A study is carried out to investigate risk factors of cigarette smoking among teenagers. Of a group  of 1450 teenagers who participated in the study, 63 indicated they smoke. What are the odds of a teenager being a smoker in this population?\n"
      ]
    },
    {
      "cell_type": "code",
      "execution_count": null,
      "id": "eb378df8-f587-4f61-9a41-f11e079a5558",
      "metadata": {
        "id": "eb378df8-f587-4f61-9a41-f11e079a5558",
        "outputId": "1fb400d0-4aea-4399-a1f3-1d05ba069a61"
      },
      "outputs": [
        {
          "name": "stdout",
          "output_type": "stream",
          "text": [
            "0.05\n"
          ]
        }
      ],
      "source": [
        "import numpy as np\n",
        "\n",
        "pr = np.array([63, 1450 - 63]) / 1450  # gives the proportion of those who smoke and those who do not smoke\n",
        "odds = pr[0] / pr[1]\n",
        "print(round(odds, 2))\n"
      ]
    },
    {
      "cell_type": "markdown",
      "id": "0d4d0aeb-3a53-4f2e-a725-7dd0d87ce2ab",
      "metadata": {
        "id": "0d4d0aeb-3a53-4f2e-a725-7dd0d87ce2ab"
      },
      "source": [
        "the odds of a teenager being a smoker is 0.05.\n",
        "\n",
        "(2) Suppose that the probability of mortality is 0.36 in a group of patients. What are the odds of dying in this group?"
      ]
    },
    {
      "cell_type": "code",
      "execution_count": null,
      "id": "181b08e1-6361-4f64-9565-87dcf0b2c7e0",
      "metadata": {
        "id": "181b08e1-6361-4f64-9565-87dcf0b2c7e0",
        "outputId": "0f3c0b35-deaf-42db-c31f-2c343b9b7263"
      },
      "outputs": [
        {
          "name": "stdout",
          "output_type": "stream",
          "text": [
            "0.56\n"
          ]
        }
      ],
      "source": [
        "# using Python as a calculator for odds\n",
        "odds = 0.36 / (1 - 0.36)\n",
        "print(round(odds, 2))\n"
      ]
    },
    {
      "cell_type": "markdown",
      "id": "17a11b8c-8f0a-456e-8059-c5740ceaef2a",
      "metadata": {
        "id": "17a11b8c-8f0a-456e-8059-c5740ceaef2a"
      },
      "source": [
        "\n",
        "the odds of dying among the patients is 0.56.\n",
        "\n",
        "___Odds ratio___: It is a ratio of two odds measures; it is a comparison of the odds of event of interest in one group compared to the odds of the same event in the other group.\n",
        "\n",
        "\\begin{eqnarray*}\n",
        "\\textrm{Odds Ratio(OR)}&= &\\frac{\\textrm{odds(exposed)}}{\\textrm{odds(unexposed)}}\\\\ \\\\ \\\\\n",
        "&=&\\frac{\\textrm{Prob(Health outcome present|Exposed)}/\\textrm{Prob(Health outcome absent |Exposed)}}{\\textrm{Prob(Health outcome present |unxposed)}\\textrm{Prob(Health outcome absent  |unexposed)}}\\\\ \\\\\n",
        "&=&\\frac{\\textrm{(A/B)}}{\\textrm{(C/D)}}\n",
        "\\end{eqnarray*}\n",
        "\n",
        "\n",
        "___Interpretation of odds ratio:___\n",
        "\n",
        "(i)\tFor value less than one, the odds of health outcome for the exposed group are lower than the odds of the unexposed group, there is a negative association between health outcome and exposure. The exposed group is 100x(1-OR)) % less likely to have the outcome.\n",
        "(ii)\tFor value one, there is no association between the exposure and health outcome as the odds of the health outcome are the same for both the exposed and the unexposed\n",
        "(iii)\tFor value greater than one, the odds of the health outcome for the exposed group are higher than the odds for the unexposed group. There is a positive association between the exposure and health outcome. Those exposed are O.R times more likely to have the outcome of interest\n",
        "\n",
        "__Example:__\n",
        "A team of researchers carried out a study to determine if there is an association between developing coronary heart disease(CHD) and high blood pressure(BP) status(this was measured at baseline). A summary of the data collected was as follows:\n",
        "\n",
        "\\begin{center}\n",
        "\\begin{tabular}{|c|c|c|}\n",
        "    \\hline\n",
        " \\multirow{2}{*}{High BP} &\n",
        " \\multicolumn{2}{c|}{CHD status}\\\\\n",
        " \\cline{2-3}\n",
        "  &Present&Not present\\\\\n",
        "    \\hline\n",
        "  Yes&102&89\\\\\n",
        "  \\hline\n",
        " No&153&2058\\\\\n",
        "  \\hline\n",
        "\\end{tabular}\n",
        "\\end{center}\n",
        "\n",
        "Find the  odds ratio and interpret it.\n"
      ]
    },
    {
      "cell_type": "code",
      "execution_count": null,
      "id": "d8f25be5-24c5-4822-899b-a4a61489131e",
      "metadata": {
        "id": "d8f25be5-24c5-4822-899b-a4a61489131e",
        "outputId": "d5fe4e38-3360-4b96-dcd9-4dee801f7028"
      },
      "outputs": [
        {
          "name": "stdout",
          "output_type": "stream",
          "text": [
            "15.42\n"
          ]
        }
      ],
      "source": [
        "# the table for analysis\n",
        "chdbp = pd.DataFrame({'CHDpresent': [102, 153], 'CHDabsent': [89, 2058]})\n",
        "OR = (chdbp.iloc[0, 0] * chdbp.iloc[1, 1]) / (chdbp.iloc[0, 1] * chdbp.iloc[1, 0])\n",
        "print(round(OR, 2))\n"
      ]
    },
    {
      "cell_type": "markdown",
      "id": "8775ee64-2e92-42ed-b95d-b2ae5b8677c5",
      "metadata": {
        "id": "8775ee64-2e92-42ed-b95d-b2ae5b8677c5"
      },
      "source": [
        "\n",
        "the odds ratio is 15.42. An individual with high blood pressure if 15 times more likely to develop coronary heart disease compare to an individual who does not have high blood pressure\n",
        "\n",
        "### Random variables and probability distributions:\n",
        "\n",
        "***Random variables:***\n",
        "\n",
        "In order to make valid statements about random phenomena, it is required  that each of the possible outcomes of a  random experiment be represented by a real number rather than its physical description.\n",
        "The representation of outcomes of a random experiment by use of  real numbers leads to the notion of a random variable\n",
        "\n",
        "__Definition:__ A random variable is a numerical value assigned to each outcome of a random experiment.\n",
        "The numerical value can be the same for several outcomes of the experiment. Given that outcomes cannot be predicted with certainty, it implies that random variable to cannot be predicted with certainty.\n",
        "Similarly as we are able to define a sample space, we can define the set of all possible values the random variable can take on.\n",
        "\n",
        "we use an example to illustrate the concept of a random variable:\n",
        "\n",
        "Suppose three individuals A,B and C are tested for Covid 19.(an individual either tests positive(+VE) or negative(-VE))\n",
        "\n",
        "The possible outcomes of the test would be\n",
        "\n",
        "\\[\n",
        "\\begin{array}{|c|c|c|c|c|c|c|c|c|}\n",
        "\\hline\n",
        "\\textrm{Individual}&1&2&3&4&5&6&7&8\\\\\n",
        "\\hline\n",
        "\\textrm{A}&+VE&+VE&+VE&+VE&-VE&-VE&-VE&-VE\\\\\n",
        "\\hline\n",
        "\\textrm{B}&+VE&+VE&-VE&-VE&+VE&+VE&-VE&-VE\\\\\n",
        "\\hline\n",
        "\\textrm{C}&+VE&-VE&+VE&-VE&+VE&-VE&+VE&-VE\\\\\n",
        "\\hline\n",
        "\\end{array}\n",
        "\\]\n",
        "\n",
        "\n",
        "Now we assign each outcome a numerical value that represents the number among three individuals whose outcome will\n",
        "be positive; i.e the number of positive results for each outcome\n",
        "\\[\n",
        "\\begin{array}{|c|c|c|c|c|c|c|c|c|}\n",
        "\\hline\n",
        "\\textrm{Individual}&1&2&3&4&5&6&7&8\\\\\n",
        "\\hline\n",
        "\\textrm{A}&+VE&+VE&+VE&+VE&-VE&-VE&-VE&-VE\\\\\n",
        "\\hline\n",
        "\\textrm{B}&+VE&+VE&-VE&-VE&+VE&+VE&-VE&-VE\\\\\n",
        "\\hline\n",
        "\\textrm{C}&+VE&-VE&+VE&-VE&+VE&-VE&+VE&-VE\\\\\n",
        "\\hline\n",
        "\\textrm{No of +ve results}&3&2&2&1&2&1&1&0\\\\\n",
        "\\hline\n",
        "\\end{array}\n",
        "\\]\n",
        "\n",
        "\n",
        "In this case the number of positive results is a random variable and if we represent it using Y;  Y is a random variable whose the possible values are:\n",
        "\n",
        "    Y = {0,1,2,3}\n",
        "\n",
        "\n",
        "**Types of random variables**:\n",
        "\n",
        "\n",
        "There are two types of random variables: **discrete** and **continuous**.\n",
        "\n",
        "_Discrete_ random variables take on a countable (finite) number of values. These variables represent categorical (nominal or ordinal) variables and counts, such as the number of patients visiting an emergency room per day.\n",
        "\n",
        "_Continuous_ random variables take on an uncountable (infinite) number of possible values. For any two possible values of this random variable, we can always find another value between them. For example, weight, height which can be measured to the nearest gram or cm respectively hence giving a value with a decimal point\n",
        "\n",
        "### Probabilities of values of random variable:\n",
        "\n",
        "After we define a random variable, instead of talking about the probabilities for different outcomes and events of random experiment, we can talk about the probability of different values for a random variable(these probabilities are based on the probabilities of the outcomes)\n",
        "\n",
        "Again using the example of three individuals tested for Covid 19; if each possible outcome is equally likely, we can use the probabilities of the occurrences of outcomes to obtain the likelihood of obtaining each possible value of the random variable defined.\n",
        "\n",
        "    Y=0 corresponds to one outcome{(-VE,-VE,-VE)} hence Prob(Y=0)= 1/8\n",
        "    Y=1 corresponds to three outcomes{(+VE,-VE,-VE),(-VE,+VE,-VE),(-VE,-VE,+VE)} hence Prob(Y=1)= 3/8\n",
        "    Y=2 corresponds to three outcomes {(+VE,+VE,-VE),(+VE,-VE,+VE),(-VE,+VE,+VE)} hence Prob(Y=2)=3/8\n",
        "    Y=3 corresponds to one outcome {(+VE,+VE,+VE)} hence Prob(Y=3)=1/8\n",
        "\n",
        "Note that the total sum of all probabilities for the random variable is still 1.\n",
        "\n",
        "### Probability distribution:\n",
        "\n",
        "The list of all possible values that a random variable can take on together with their corresponding probabilities is known as **probability distribution**.\n",
        "\n",
        "A probability distribution can be presented in the form of a table or formula or graph\n",
        "\n",
        "![](/Users/annewanjiru/Desktop/ENGAGE/discreteprob.png){width=80%}\n",
        "\n",
        "\n",
        "Probability distributions have parameters that are summary measures which  allow for the distribution to be fully described.\n",
        "\n",
        "From a probability distribution we can define a ___cumulative distribution function___ which represents the probability that a random variable takes on a value less than or equal to a given value.\n",
        "\n",
        "A probability distribution is classified as either discrete or continuous depending on the nature of random variable it is used to describe.\n",
        "\n",
        "\n",
        "___Discrete probability distributions____\n",
        "\n",
        "Discrete probability distributions defined for discrete random variables are referred to as **probability mass functions** or **probability distribution function**.\n",
        "These functions specify describe the probability of each possible value of the random variable.\n",
        "\n",
        "Properties of these distributions include:\n",
        "\n",
        " (i) the probability of occurrence of each possible value of the random variable is between zero\n",
        " (ii) the sum of all the probabilities is one\n",
        " (iii) the cumulative distribution function is the sum of probabilities of the values less than\n",
        "         or equal to given value of random variable\n",
        "\n",
        "_Example_:\n",
        "Suppose we have information on probability distribution of number of Ottitis media(infection located in the middle ear) in infants,X, in the first two years:\n",
        "\n",
        "\n",
        "\n",
        "Find the probability that an infant selected at random had at most two Ottitis media in the first two years\n",
        "\n",
        "$$\n",
        "\\begin{array}{|c|c|c|c|c|c|c|}\n",
        "\\hline\n",
        "\\textrm{X}&0&1&2&3&4&5\\\\\n",
        "\\hline\n",
        "\\textrm{Prob(X)}&0.129&0.264&0.271&0.185&0.095&0.056\\\\\n",
        "\\hline\n",
        "\\end{array}\n",
        "$$\n",
        "\n",
        "Solution:\n",
        "\n",
        "the required probability is $\\textrm{Prob}(X \\le 2)$ which is a cumulative probability\n",
        "\\begin{eqnarray*}\n",
        "\\textrm{Prob}(X \\le 2)&=&\\textrm{Prob}(X=0)+\\textrm{Prob}(X=1)+\\textrm{Prob}(X=2)\\\\\n",
        "&=& 0.129+0.264+0.271\\\\\n",
        "&=&0.664\n",
        "\\end{eqnarray*}\n",
        "\n",
        "___Continuous probability distributions___\n",
        "\n",
        "Probability distributions associated with continuous random variables are referred to as **probability density functions**.\n",
        "\n",
        "Probability density functions are represented graphically as area under the curve.\n",
        "Since a continuous random variable can take on any value within its range of possible values,it is not possible to list all possible values and their corresponding probabilities. Instead we determine the probability that the random variable lies within a specified interval and this probability is equal to the area under curve of the probability density function (graph of the distribution) as shown below.\n",
        "        \n",
        "![](/Users/annewanjiru/Desktop/ENGAGE/continterval.png){width=70%}\n",
        "\n",
        "\n",
        "\n",
        "Properties of these distributions include:\n",
        "\n",
        "(i)  The total area under the curve for the range of possible values is one\n",
        "\n",
        "(ii) The right(upper) tail probability is the portion of area under the curve corresponding to\n",
        "     values larger than given value of the random variable (i.e., values to the right of the\n",
        "        given value)\n",
        "         \n",
        "![](/Users/annewanjiru/Desktop/ENGAGE/righttail.png){width=70%}\n",
        "\n",
        "\n",
        "        \n",
        "(iii) The left(lower) tail probability is the portion of area under the curve corresponding to\n",
        "     values smaller than given value of the random variable (i.e., values to the left of the\n",
        "        given value)   \n",
        "\n",
        "![](/Users/annewanjiru/Desktop/ENGAGE/lefttail.png){width=70%}\n",
        "\n",
        "\n",
        "\n",
        "\n",
        "### Probability distributions applied in Data Science\n",
        "\n",
        "There are many different probability distributions applied in Data Science, we will only discuss two of these: Binomial and Normal distributions.\n",
        "\n",
        "### Binomial distribution:\n",
        "\n",
        "The binomial distribution is used to model the distribution of the occurrence of binary events eg.; disease status(present or absent), obesity(yes or no), patients treated with a new drug(cured or not)just to mention a few.\n",
        "\n",
        "The two outcomes of the binary event are mutually exclusive and are often referred to as a “success” and a “failure” depending on outcome of interest. Using the example of obesity; if study to be carried out is on say determining factors that influence obesity among adolescents, then “success” is obese case and “failure” is non- obese case.\n",
        "\n",
        "A **binomial distribution** is a discrete probability distribution that describes the probability of observing a certain number of “successes” in a fixed number of independent trials where each trial results in either a “success” or “failure” and the probability of a “success” is the same for each trial.\n",
        "Trials are said to be independent if the outcome of any particular trial is not affected by the outcome of any other trial.\n",
        "\n",
        "The parameters of the binomial distribution are the fixed number of trials and probability of \"success\". These two parameters are used to derive the mean(also referred to as expected value) and standard deviation of the binomial random variable.\n",
        "\n",
        "Let $n$ be the fixed number of trials and $p$ be the probability of \"success\"; then  the mean and standard deviation are:\n",
        "\\begin{eqnarray*}\n",
        "\\textrm{Mean}&=& n\\times p\\\\\n",
        "\\textrm{Std. deviation}&=&\\sqrt{n\\times p \\times (1-p)}\n",
        "\\end{eqnarray*}\n",
        "\n",
        "_Illustrative example of binomial distribution:_\n",
        "\n",
        "Suppose a  flu vaccine is 70% effective(i.e; there is a 70% chance or probability 0.7 that a vaccinated person develops immunity ).If ten people are vaccinated,the number who develop immunity will vary from none developing immunity,one person developing immunity up to and including all ten developing immunity. The number who develop immunity out of the ten vaccinated(fixed number of trials) is a binomial random variable since each trial(an individual being vaccinated) is an independent trial with two possible outcomes: develop immunity(\"success\") or do not develop immunity(\"failure\") and probability of \"sucess\" for each individual remains the same(0.7)\n",
        "\n",
        "Let E represent the number who develop immunity; the probability distribution of E is\n"
      ]
    },
    {
      "cell_type": "code",
      "execution_count": null,
      "id": "c781aa27-d802-45ce-bec6-3dc4eaabdcf4",
      "metadata": {
        "id": "c781aa27-d802-45ce-bec6-3dc4eaabdcf4",
        "outputId": "153ed74f-b746-4863-a3f1-ecc51552de50"
      },
      "outputs": [
        {
          "name": "stdout",
          "output_type": "stream",
          "text": [
            "     E   Prob(E)\n",
            "0    0  0.000006\n",
            "1    1  0.000138\n",
            "2    2  0.001447\n",
            "3    3  0.009002\n",
            "4    4  0.036757\n",
            "5    5  0.102919\n",
            "6    6  0.200121\n",
            "7    7  0.266828\n",
            "8    8  0.233474\n",
            "9    9  0.121061\n",
            "10  10  0.028248\n"
          ]
        }
      ],
      "source": [
        "import numpy as np\n",
        "import pandas as pd\n",
        "from scipy.stats import binom\n",
        "\n",
        "cx = np.arange(0, 11)\n",
        "dx = binom.pmf(cx, 10, 0.7)\n",
        "pr_dist = pd.DataFrame({'E': cx, 'Prob(E)': dx})\n",
        "print(pr_dist)\n"
      ]
    },
    {
      "cell_type": "markdown",
      "id": "f16d1f18-b376-48ce-abdc-06f1d9599761",
      "metadata": {
        "id": "f16d1f18-b376-48ce-abdc-06f1d9599761"
      },
      "source": [
        "the probability distribution can also be represented as a graph\n"
      ]
    },
    {
      "cell_type": "code",
      "execution_count": null,
      "id": "5dc98107-8c68-48ec-9018-5f19e115f6dd",
      "metadata": {
        "id": "5dc98107-8c68-48ec-9018-5f19e115f6dd",
        "outputId": "4a7d725b-9d3d-4a8c-8105-e24069762ceb"
      },
      "outputs": [
        {
          "data": {
            "image/png": "[encoded data removed]",
            "text/plain": [
              "<Figure size 640x480 with 1 Axes>"
            ]
          },
          "metadata": {},
          "output_type": "display_data"
        }
      ],
      "source": [
        "import matplotlib.pyplot as plt\n",
        "\n",
        "plt.bar(cx, dx, color='lightblue')\n",
        "plt.xlabel('Number who develop immunity')\n",
        "plt.ylabel('Probability')\n",
        "plt.show()\n"
      ]
    },
    {
      "cell_type": "markdown",
      "id": "a5459866-cde5-43fb-b7d6-eeb18cadeac3",
      "metadata": {
        "id": "a5459866-cde5-43fb-b7d6-eeb18cadeac3"
      },
      "source": [
        "\n",
        "_Example:_ It is estimated that 22% of adults in a certain urban area are HIV positive.  If a sample of twelve adults is selected, find the probability that\n",
        "\n",
        "(a)\tExactly four are HIV positive\n",
        "\n",
        "_Solution_\n",
        "\"Success\" here is an individual being HIV positive since it is the outcome of interest for binary event which is HIV status of individual.\n",
        "The fixed number of trials is 12 and probability of \"success\" is 0.22.\n",
        "\n",
        "Now to solving the question:\n"
      ]
    },
    {
      "cell_type": "code",
      "execution_count": null,
      "id": "b0d4f9f2-72d6-44d7-bf3c-8924463469e0",
      "metadata": {
        "id": "b0d4f9f2-72d6-44d7-bf3c-8924463469e0"
      },
      "outputs": [],
      "source": []
    },
    {
      "cell_type": "code",
      "execution_count": null,
      "id": "98da40f7-65d9-40e7-92ef-99ac37f4db6c",
      "metadata": {
        "id": "98da40f7-65d9-40e7-92ef-99ac37f4db6c",
        "outputId": "f808c1a3-9071-4d2b-df46-385655b7cd92"
      },
      "outputs": [
        {
          "name": "stdout",
          "output_type": "stream",
          "text": [
            "0.1588739684492806\n"
          ]
        }
      ],
      "source": [
        "from scipy.stats import binom\n",
        "\n",
        "# Probability of an exact number of successes\n",
        "probability = binom.pmf(4, 12, 0.22)\n",
        "print(probability)\n"
      ]
    },
    {
      "cell_type": "markdown",
      "id": "4712a407-31fb-49ef-b94b-7c480b09e40e",
      "metadata": {
        "id": "4712a407-31fb-49ef-b94b-7c480b09e40e"
      },
      "source": [
        "the probability that exactly four individuals are HIV positive is 0.16(rounded off the computed probability)\n",
        "\n",
        "(b)\tAt most five are HIV positive\n",
        "\n",
        "_Solution_\n",
        "\n",
        "The required probability is cumulative probability; the probability that seven or less out of the tweleve are HIV positive"
      ]
    },
    {
      "cell_type": "code",
      "execution_count": null,
      "id": "256ae50a-b62a-49b3-8843-98d4d25cf773",
      "metadata": {
        "id": "256ae50a-b62a-49b3-8843-98d4d25cf773",
        "outputId": "4246185c-0e63-44a5-85c6-af2b7ea92ef2"
      },
      "outputs": [
        {
          "name": "stdout",
          "output_type": "stream",
          "text": [
            "0.9695609774280819\n"
          ]
        }
      ],
      "source": [
        "# Cumulative probability\n",
        "cumulative_probability = binom.cdf(5, 12, 0.22)\n",
        "print(cumulative_probability)\n"
      ]
    },
    {
      "cell_type": "markdown",
      "id": "bb3979e1-4e37-4b19-a042-36fbf12c1fd2",
      "metadata": {
        "id": "bb3979e1-4e37-4b19-a042-36fbf12c1fd2"
      },
      "source": [
        "The probability that five or fewer individuals out of the twelve are HIV positive is 0.97\n",
        "\n",
        "_Example_\n",
        "In a vaccination program, it is found that 90% of vaccinated individuals are protected from a disease. If 120 people are vaccinated,\n",
        "\n",
        "(a) what is the expected number of people who will be protected?\n",
        "\n",
        "_Solution_\n",
        "\n",
        "In this case,\n",
        "\n",
        "the fixed number of trials is the number vaccinated which is 120.\n",
        "\"Success\" is a vaccinated person who is protected from disease, hence probability of \"success\" is probability of being protected which is equal to 0.9(90%)\n"
      ]
    },
    {
      "cell_type": "code",
      "execution_count": null,
      "id": "31b7d420-1865-4845-8390-28f525352e43",
      "metadata": {
        "id": "31b7d420-1865-4845-8390-28f525352e43",
        "outputId": "e3160f07-145b-4bbf-fd70-88be4808bfaf"
      },
      "outputs": [
        {
          "name": "stdout",
          "output_type": "stream",
          "text": [
            "108.0\n"
          ]
        }
      ],
      "source": [
        "# Mean of a binomial distribution\n",
        "mean = 120 * 0.9\n",
        "print(mean)\n"
      ]
    },
    {
      "cell_type": "markdown",
      "id": "cc09cc18-b5ae-46a5-a359-33862d2b0c61",
      "metadata": {
        "id": "cc09cc18-b5ae-46a5-a359-33862d2b0c61"
      },
      "source": [
        " the mean is 108. It is expected that on average 108 individuals are protected from the disease.\n",
        "\n",
        "\n",
        "(b)  Compute the probability that at least 95 out of the 120 vaccinated individuals are protected.\n",
        "\n",
        "_Solution_\n",
        "\n",
        "here the required probability is the probability that 95 or more are protected from the disease.\n",
        "\n",
        "Let X represent the number protected, the probability is\n",
        "$$\\textrm{Prob}(X \\ge 95) = 1- \\textrm{Prob}(X \\le  94)$$\n",
        "using the property of probability distribution function that the sum of all probabilities is equal to 1.\n"
      ]
    },
    {
      "cell_type": "code",
      "execution_count": null,
      "id": "2f0572b5-9e4e-4819-b257-488970459ef8",
      "metadata": {
        "id": "2f0572b5-9e4e-4819-b257-488970459ef8",
        "outputId": "53cee7bb-0eb3-4b70-8738-660893daddf3"
      },
      "outputs": [
        {
          "name": "stdout",
          "output_type": "stream",
          "text": [
            "0.9998776520524489\n"
          ]
        }
      ],
      "source": [
        "# Probability of more than 95 successes\n",
        "prob_95 = 1 - binom.cdf(94, 120, 0.9)\n",
        "print(prob_95)\n"
      ]
    },
    {
      "cell_type": "markdown",
      "id": "f43f6e30-4958-4021-9eaa-eda17ae2f781",
      "metadata": {
        "id": "f43f6e30-4958-4021-9eaa-eda17ae2f781"
      },
      "source": [
        "the probability is 0.999 which approximately equal to 1. It is almost certain that 95 or more inviduals are protected from the disease.\n",
        "\n",
        "(e) Generate 100 simulations  for the number who get protection from the disease for the distribution described above. Plot a histogram for the distribution of the number who get protection\n"
      ]
    },
    {
      "cell_type": "code",
      "execution_count": null,
      "id": "fe0b1aad-d7c5-4277-8ef9-5766323d0bbc",
      "metadata": {
        "id": "fe0b1aad-d7c5-4277-8ef9-5766323d0bbc",
        "outputId": "9039c5d7-d023-433d-9a1d-04de43ec0b58"
      },
      "outputs": [
        {
          "name": "stdout",
          "output_type": "stream",
          "text": [
            "[108 110 109 105 116 112]\n"
          ]
        }
      ],
      "source": [
        "import numpy as np\n",
        "\n",
        "np.random.seed(100)\n",
        "# Generate random numbers\n",
        "no_quit = np.random.binomial(120, 0.9, 100)\n",
        "print(no_quit[:6])  # equivalent to head(no_quit)\n"
      ]
    },
    {
      "cell_type": "markdown",
      "id": "2ff39fff-fa28-4551-aa67-c931b3a1de5a",
      "metadata": {
        "id": "2ff39fff-fa28-4551-aa67-c931b3a1de5a"
      },
      "source": [
        "### The histogram:\n"
      ]
    },
    {
      "cell_type": "code",
      "execution_count": null,
      "id": "9cf1b09c-30fc-49eb-a1cc-6f5f6a744545",
      "metadata": {
        "id": "9cf1b09c-30fc-49eb-a1cc-6f5f6a744545",
        "outputId": "1dd1836c-a2e5-430d-ab12-da8f8df9239c"
      },
      "outputs": [
        {
          "data": {
            "image/png": "[encoded data removed]",
            "text/plain": [
              "<Figure size 640x480 with 1 Axes>"
            ]
          },
          "metadata": {},
          "output_type": "display_data"
        }
      ],
      "source": [
        "import matplotlib.pyplot as plt\n",
        "\n",
        "plt.hist(no_quit, bins='auto', color='lightblue')\n",
        "plt.xlabel('Number of quit smoking')\n",
        "plt.ylabel('Frequency')\n",
        "plt.show()\n"
      ]
    },
    {
      "cell_type": "markdown",
      "id": "c3b91473-88f1-47ed-94ea-46ca1e889c90",
      "metadata": {
        "id": "c3b91473-88f1-47ed-94ea-46ca1e889c90"
      },
      "source": [
        "### Normal distribution:\n",
        "\n",
        "Normal distribution is used to describe the distribution of continuous variables whose histograms are symmetrical and form a bell shaped curve. It is a good approximation to many continuous variables  such as height, weight, blood pressure just to mention a few.\n",
        "\n",
        "This distribution has two parameters, the mean and the variance.\n",
        "\n",
        "_Example_ An illustration of normal distribution for BMI values for a group with mean of 25.5 and standard deviation of 4."
      ]
    },
    {
      "cell_type": "code",
      "execution_count": null,
      "id": "626a515f-195d-4f37-a7d4-afe663aa9092",
      "metadata": {
        "id": "626a515f-195d-4f37-a7d4-afe663aa9092",
        "outputId": "efec4212-a527-4a3b-cc33-d689d3b5781c"
      },
      "outputs": [
        {
          "data": {
            "image/png": "[encoded data removed]",
            "text/plain": [
              "<Figure size 640x480 with 1 Axes>"
            ]
          },
          "metadata": {},
          "output_type": "display_data"
        }
      ],
      "source": [
        "from scipy.stats import norm\n",
        "\n",
        "dat = np.arange(13, 38.5, 0.5)\n",
        "s = norm.pdf(dat, 25.5, 4)\n",
        "plt.plot(dat, s, 'b-')\n",
        "plt.xlabel('BMI values')\n",
        "plt.ylabel('Probability')\n",
        "plt.axvline(x=25.5, color='red')\n",
        "plt.text(27.6, 0.01, \"Mean=25.5\")\n",
        "plt.show()\n"
      ]
    },
    {
      "cell_type": "markdown",
      "id": "5de8cb9e-1c24-419e-8346-67f7efdce5b4",
      "metadata": {
        "id": "5de8cb9e-1c24-419e-8346-67f7efdce5b4"
      },
      "source": [
        "___Properties of normal distribution___\n",
        "\n",
        "(a) It has a bell shaped curve\n",
        "(b) It is symmetrical about the mean; values clustered around the mean are more probable than those farther away, least probable being those falling in the tails.\n",
        "(c) The mean, median and mode are equal.\n",
        "(d) The tail probabilities are equal\n",
        "(e) Approximately 68% of data lies within one standard deviation of the mean; 95% within two standard deviations and 99.7% within three standard deviations. This is refereed to as empirical rule.\n",
        "\n",
        "### Standard Normal Distribution:\n",
        "\n",
        "The normal distribution does not have just one form since the mean and standard deviation are not fixed. However it is possible to have a normal distribution with fixed mean and variance which is a special case of the normal distribution referred to as standard normal distribution.\n",
        "\n",
        "This a normal distribution with mean zero and standard deviation of one."
      ]
    },
    {
      "cell_type": "code",
      "execution_count": null,
      "id": "6d1267da-bdc1-44e0-8055-cd25add89f64",
      "metadata": {
        "id": "6d1267da-bdc1-44e0-8055-cd25add89f64",
        "outputId": "4283f7f1-7b7a-4deb-e76b-a328896af9c0"
      },
      "outputs": [
        {
          "data": {
            "image/png": "[encoded data removed]",
            "text/plain": [
              "<Figure size 640x480 with 1 Axes>"
            ]
          },
          "metadata": {},
          "output_type": "display_data"
        }
      ],
      "source": [
        "dt = np.linspace(-4, 4, 100)\n",
        "st = norm.pdf(dt, 0, 1)\n",
        "plt.plot(dt, st, 'b-')\n",
        "plt.xlabel('Values of standard normal random variable')\n",
        "plt.ylabel('Probability')\n",
        "plt.axvline(x=0, color='red')\n",
        "plt.text(0.5, 0.01, \"Mean=0\")\n",
        "plt.show()\n"
      ]
    },
    {
      "cell_type": "markdown",
      "id": "356702f5-d3ff-4238-b40c-dddf11472273",
      "metadata": {
        "id": "356702f5-d3ff-4238-b40c-dddf11472273"
      },
      "source": [
        "\n",
        "The Empirical rule for standard normal distribution\n",
        "\n",
        "\n",
        "![](/Users/annewanjiru/Desktop/ENGAGE/Empirical Rule.png){width=60%}\n",
        "\n",
        "\n",
        "\n",
        "For any normal distribution we can convert into the standard normal distribution using the formula\n",
        "$$\\textrm{Z}=\\frac{\\textrm{observed value}-\\textrm{mean}}{\\textrm{standard deviation}}$$\n",
        "\n",
        "The standardized values are called ___Z-scores___.\n",
        "A Z score is a measure of how many standard deviations a data point is from the mean of a normal distribution.\n",
        "\n",
        "The standard normal distribution makes it easier to compute probabilities as well as comparing datasets based on their means and standard deviations.\n",
        "\n",
        "_Example_ Suppose we know that the birth weight of babies is normally distributed with mean 3500g and standard deviation 500g. What is the probability that a newborn baby weighs less than 4300g?\n",
        "\n",
        "_Solution_\n",
        "\n",
        "The Z score corresponding to the weight 4300g from the defined normal distribution is\n",
        "$$\\textrm{Z}=\\frac{\\textrm{observed value}-\\textrm{mean}}{\\textrm{standard deviation}}=\\frac{4300-3500}{500}=1.6$$\n",
        "Hence $\\textrm{Prob}(\\textrm{weight} < 4300) = \\textrm{Prob}(Z < 1.6)$\n",
        "\n",
        "Another example:\n",
        "\n",
        "_Example_\n",
        "The distribution of  BMI values for a group is normally distributed with mean of 25.5 and standard deviation of 4. Find the probability that an individual in this group has a BMI less than 31.9\n",
        "\n",
        "_Solution_\n",
        "The Z score corresponding to the BMI of 31.9 from the defined normal distribution is\n",
        "$$\\textrm{Z}=\\frac{\\textrm{observed value}-\\textrm{mean}}{\\textrm{standard deviation}}=\\frac{31.9-25.5}{4}=1.6$$\n",
        "Hence $\\textrm{Prob}(\\textrm{BMI} < 31.8) = \\textrm{Prob}(Z < 1.6)$\n",
        "\n",
        "Two different means and standard deviations with same Z score for the respective specific measures given.\n",
        "\n",
        "The standard normal distribution can be said to be a one size fits all.\n",
        "\n",
        "Applying the standard normal distribution makes predictions and inferences much easier. A case in point is computation of p-values.\n",
        "\n",
        "The p-value(which will be discussed in more detail in the next topic) is simply the lower or upper tail probability of given Z score.\n",
        "\n",
        "_Examples_\n",
        "Find the probability that\n",
        "\n",
        "(i) Z > 2.48\n"
      ]
    },
    {
      "cell_type": "code",
      "execution_count": null,
      "id": "4968714a-a01c-4a88-be61-fd8e29358b17",
      "metadata": {
        "id": "4968714a-a01c-4a88-be61-fd8e29358b17",
        "outputId": "1edc0532-7706-4ad8-ce0e-d9aa89ecb619"
      },
      "outputs": [
        {
          "name": "stdout",
          "output_type": "stream",
          "text": [
            "0.006569119135546763\n"
          ]
        }
      ],
      "source": [
        "# Upper tail distribution probability\n",
        "upper_tail_prob = norm.sf(2.48, 0, 1)\n",
        "print(upper_tail_prob)\n"
      ]
    },
    {
      "cell_type": "markdown",
      "id": "32a42d91-af91-4d47-9a55-7e4cfed42eb5",
      "metadata": {
        "id": "32a42d91-af91-4d47-9a55-7e4cfed42eb5"
      },
      "source": [
        "(ii) Z < -1.96"
      ]
    },
    {
      "cell_type": "code",
      "execution_count": null,
      "id": "76a33929-666d-4991-96dd-23bf0e3fb796",
      "metadata": {
        "id": "76a33929-666d-4991-96dd-23bf0e3fb796",
        "outputId": "e9139e59-0567-420a-9991-ed179b6035ae"
      },
      "outputs": [
        {
          "name": "stdout",
          "output_type": "stream",
          "text": [
            "0.024997895148220435\n"
          ]
        }
      ],
      "source": [
        "# Lower tail distribution probability\n",
        "lower_tail_prob = norm.cdf(-1.96, 0, 1)\n",
        "print(lower_tail_prob)\n"
      ]
    },
    {
      "cell_type": "markdown",
      "id": "2214d6f6-a4f0-4e12-ace7-48d423893ff4",
      "metadata": {
        "id": "2214d6f6-a4f0-4e12-ace7-48d423893ff4"
      },
      "source": [
        "The p-value of a Z-score say 2 is the same as p-value of Z score -2\n",
        "\n",
        "Z > 2.4"
      ]
    },
    {
      "cell_type": "code",
      "execution_count": null,
      "id": "ecf4f5c9-e631-43ca-ae10-bc10b0114d16",
      "metadata": {
        "id": "ecf4f5c9-e631-43ca-ae10-bc10b0114d16",
        "outputId": "d60e56d2-c2aa-4945-eb7b-48f3d81a7ebe"
      },
      "outputs": [
        {
          "name": "stdout",
          "output_type": "stream",
          "text": [
            "0.022750131948179195\n"
          ]
        }
      ],
      "source": [
        "# Another upper tail distribution probability\n",
        "upper_tail_prob_2 = norm.sf(2, 0, 1)\n",
        "print(upper_tail_prob_2)\n"
      ]
    },
    {
      "cell_type": "markdown",
      "id": "a7e4ec07-d4c1-4074-a87e-09a6143f2a56",
      "metadata": {
        "id": "a7e4ec07-d4c1-4074-a87e-09a6143f2a56"
      },
      "source": [
        "Z < -2.4"
      ]
    },
    {
      "cell_type": "code",
      "execution_count": null,
      "id": "6a6f5952-079f-4228-8a63-566fb01eeb87",
      "metadata": {
        "id": "6a6f5952-079f-4228-8a63-566fb01eeb87",
        "outputId": "52a668cf-fe1e-4daa-8df8-4e0a5dd089b2"
      },
      "outputs": [
        {
          "name": "stdout",
          "output_type": "stream",
          "text": [
            "0.022750131948179195\n"
          ]
        }
      ],
      "source": [
        "# Another lower tail distribution probability\n",
        "lower_tail_prob_2 = norm.cdf(-2, 0, 1)\n",
        "print(lower_tail_prob_2)\n"
      ]
    },
    {
      "cell_type": "markdown",
      "id": "d87a437f-8732-4c8e-8238-295e184cd8c2",
      "metadata": {
        "id": "d87a437f-8732-4c8e-8238-295e184cd8c2"
      },
      "source": [
        "\n",
        "$\\textrm{Prob}(Z > 2)=\\textrm{Prob}(Z < -2)=0.023$\n",
        "\n",
        "In general we say that $\\textrm{Prob}(Z > z)=\\textrm{Prob}(Z < -z)$; an advantage that the standard normal distribution has over normal distributions with different means and standard deviations.\n",
        "\n",
        "_Example_\n",
        "\n",
        "(a) Create a vector called sim_data which contains a simulation for 500 values for normal distribution with mean of 170 and standard deviation of 10.\n",
        "(b) Create another vector for Z scores of the simulate data\n",
        "(c) Combine the two vectors into a data frame and show  the first 10 entries of data frame and show the first few entries of the data frame.\n",
        "(d) Plot a histogram for the simulated data and normal curve from standard normal distribution overlaid\n",
        "\n",
        "_Solution_\n",
        "(a) the code for the required vector\n"
      ]
    },
    {
      "cell_type": "code",
      "execution_count": null,
      "id": "4ebe4ebf-2e3b-4a2b-8d87-c4629367634c",
      "metadata": {
        "id": "4ebe4ebf-2e3b-4a2b-8d87-c4629367634c"
      },
      "outputs": [],
      "source": [
        "np.random.seed(100)\n",
        "# Generate data using normal distribution\n",
        "sim_data = np.random.normal(170, 10, 500)\n"
      ]
    },
    {
      "cell_type": "markdown",
      "id": "d625e620-9778-4d98-96bb-e7bc506b4336",
      "metadata": {
        "id": "d625e620-9778-4d98-96bb-e7bc506b4336"
      },
      "source": [
        "(b) the Z scores for the simulated data"
      ]
    },
    {
      "cell_type": "code",
      "execution_count": null,
      "id": "b9844c37-9013-4bf3-a807-91749fcf906a",
      "metadata": {
        "id": "b9844c37-9013-4bf3-a807-91749fcf906a"
      },
      "outputs": [],
      "source": [
        "# Standardize generated data\n",
        "z_sim_data = (sim_data - 170) / 10\n"
      ]
    },
    {
      "cell_type": "markdown",
      "id": "9faf6b53-9b96-4eeb-a71f-b7be2c08a7a5",
      "metadata": {
        "id": "9faf6b53-9b96-4eeb-a71f-b7be2c08a7a5"
      },
      "source": [
        "(c) the data frame"
      ]
    },
    {
      "cell_type": "code",
      "execution_count": null,
      "id": "ad4343f6-fad9-4af6-b2a6-1c354c6d3fdd",
      "metadata": {
        "id": "ad4343f6-fad9-4af6-b2a6-1c354c6d3fdd",
        "outputId": "a3e6db12-ac75-494c-8bcc-bede6fcd1283"
      },
      "outputs": [
        {
          "name": "stdout",
          "output_type": "stream",
          "text": [
            "     sim_data  z_sim_data\n",
            "0  152.502345   -1.749765\n",
            "1  173.426804    0.342680\n",
            "2  181.530358    1.153036\n",
            "3  167.475640   -0.252436\n",
            "4  179.813208    0.981321\n"
          ]
        }
      ],
      "source": [
        "import pandas as pd\n",
        "\n",
        "# Create DataFrame of simulated and standardized data\n",
        "dt = pd.DataFrame({'sim_data': sim_data, 'z_sim_data': z_sim_data})\n",
        "print(dt.head())\n"
      ]
    },
    {
      "cell_type": "code",
      "execution_count": null,
      "id": "82c1db6a-787d-4e37-9952-ef556ea52722",
      "metadata": {
        "id": "82c1db6a-787d-4e37-9952-ef556ea52722"
      },
      "outputs": [],
      "source": []
    },
    {
      "cell_type": "code",
      "execution_count": null,
      "id": "81dcfd92-e6c3-4bd9-b51e-635f0916bf03",
      "metadata": {
        "id": "81dcfd92-e6c3-4bd9-b51e-635f0916bf03",
        "outputId": "2195d4db-a7b7-4870-aa70-f7ddb696f5ac"
      },
      "outputs": [
        {
          "data": {
            "image/png": "[encoded data removed]",
            "text/plain": [
              "<Figure size 640x480 with 1 Axes>"
            ]
          },
          "metadata": {},
          "output_type": "display_data"
        }
      ],
      "source": [
        "import seaborn as sns\n",
        "\n",
        "# Plot histogram with normal curve overlay\n",
        "sns.histplot(sim_data, kde=True, color='lightgray', line_kws={'color': 'red'})\n",
        "plt.xlabel('data values')\n",
        "plt.show()\n"
      ]
    },
    {
      "cell_type": "code",
      "execution_count": null,
      "id": "7f9c3f86-ddac-4094-a867-0a18a58b6d43",
      "metadata": {
        "id": "7f9c3f86-ddac-4094-a867-0a18a58b6d43"
      },
      "outputs": [],
      "source": []
    },
    {
      "cell_type": "markdown",
      "source": [
        "\n",
        "\n",
        "### Methods to check if data is normally distributed:\n",
        "\n",
        "There are several methods that can be used to determine whether data follows a normal distribution. Some of these include:\n",
        "\n",
        "(i)\t___Histogram___:A histogram displays the spread and shape of distribution of data and hence can be used to check whether the distribution of the data has a bell-shaped curve. The histogram is plotted with a normal curve overlaid to see how well they match.\n",
        "\n",
        "Below is an example of histogram of data that is normally distributed, plotted with a normal curve overlaid\n",
        "\n",
        "![](/Users/annewanjiru/Desktop/ENGAGE/normhist.png){width=70%}\n",
        "\n",
        "\n",
        "(ii)___Quantile-quantile (qq) plot___: This plot plots the quantiles of the data against the quantiles(values that split sorted data or a probability distribution into equal parts.) of a normal distribution. If the two sets of quantiles are from the same distribution, then the points of the plot fall on a straight diagonal line.\n",
        "\n",
        "![](/Users/annewanjiru/Desktop/ENGAGE/qqplot.png){width=70%}\n",
        "\n",
        "\n",
        "(iii)\t___Measure of skewness___: This measure is zero for normal distribution. Distributions values within the range of  -0.5 to 0.5 can be considered to be normally distributed.\n",
        "\n",
        "(iv) ___Statistical tests___:  Hypotheses tests which compare the data to a normal distribution and the results of the comparison are a p-value. A low p-value implies that the data is not normally distributed. This concept will be explained in more detail in the next topic hypothesis that your data is normal.\n",
        "\n",
        "_Example_\n",
        "Which of  the following distributions follow normal distribution?\n",
        "\n",
        "(a)\n",
        "\n",
        "\n",
        "![](/Users/annewanjiru/Desktop/ENGAGE/exer1normal.png)\n",
        "From the quantile-quantile plot, most of the data points are lying on the straight line hence the birth weight measures are normally distributed.The histogram also depicts a fairly symmetrical distribution.\n",
        "\n",
        "(b)\n",
        "\n",
        "\n",
        "![](/Users/annewanjiru/Desktop/ENGAGE/exer2norm.png)\n",
        "From the quantile-quantile plot, quite a number of the data points are lying away from the straight line and the histogram displays data that is skewed hence the age values are not normally distributed.\n",
        "\n",
        "### Summary:\n",
        "\n",
        "In this topic basic concepts of probability and probability distributions were presented.\n",
        "\n",
        "Specifically we learnt that:\n",
        "\n",
        "* Probability is a number between 0 and 1 that measures the likelihood of the occurrence of some event. 0 indicates impossibility and 1 indicates certainty.\n",
        "\n",
        "* Conditional probability is the probability of an event occurring given that another event has already occurred.\n",
        "\n",
        "* Specificity, sensitivity, predictive value positive, and predictive value negative as applied to a screening test are conditional probabilities\n",
        "\n",
        "* Relative risk and odds ratio are based on probability and are used to evaluate public health data that is binary.\n",
        "\n",
        "* Positive odds ratio indicate an event of interest is more likely to occur while negative odds ratio indicate the event is less likely to occur\n",
        "\n",
        "* A probability distribution describes the likelihood of all possible  numerical values that can be assigned to  outcomes in a random experiment. These values can either be discrete or continuous\n",
        "\n",
        "* The binomial distribution is used to  compute the probabilities of the events where only two possible outcomes can occur.\n",
        "\n",
        "* Normal distribution is a bell-shaped distribution that is symmetric around the mean and is characterized by its mean and standard deviation.\n",
        "\n",
        "* The standard normal distribution has two fixed mean of zero and standard deviation of one. It simplifies statistical analysis and allows for  effective comparison of data sets.\n",
        "\n",
        "* p-value is either a lower or upper tail probability of probability density curve.\n",
        "\n",
        "* Methods used to determine if data is normally distributed include among others plotting histogram with normal curve overlaid; plotting quantile-quantile plots or carrying out statistical tests for normality\n",
        "\n",
        "### Exercises:\n",
        "\n",
        "(1) A community health survey indicates that 30% of the population has high blood pressure (HBP), 20% has diabetes (DM), and 10% has both conditions.\n",
        "\n",
        "Calculate the probability that a randomly selected individual:\n",
        "\n",
        "    (i) Has either high blood pressure or diabetes.\n",
        "    (ii) Does not have high blood pressure.\n",
        "    (iii) Has diabetes given that they have high blood pressure.\n",
        "\n",
        "(2) The table below provides a summary of a screening program for a certain disease\n",
        "\n",
        "\\begin{center}\n",
        "\\begin{tabular}{|c|c|c|}\n",
        "    \\hline\n",
        " \\multirow{2}{*}{Test results} &\n",
        " \\multicolumn{2}{c|}{Disease status}\\\\\n",
        " \\cline{2-3}\n",
        "  &Present&Not present\\\\\n",
        "    \\hline\n",
        "  Positive&84&25\\\\\n",
        "  \\hline\n",
        " Negative&36&855\\\\\n",
        "  \\hline\n",
        "\\end{tabular}\n",
        "\\end{center}\n",
        "\n",
        "Calculate\n",
        "(i) Sensitivity\n",
        "(ii) Specificity\n",
        "(The false positive rate.\n",
        "The false negative rate.\n",
        "(iii)Positive predictive value\n",
        "(iv)Negative predictive value\n",
        "of the test.\n",
        "\n",
        "(3) In a study investigating the association between smoking and lung cancer, researchers found the following data:\n",
        "\n",
        "\\begin{center}\n",
        "\\begin{tabular}{|c|c|c|}\n",
        "    \\hline\n",
        " \\multirow{2}{*}{Smoking status} &\n",
        " \\multicolumn{2}{c|}{Lung cancer status}\\\\\n",
        " \\cline{2-3}\n",
        "  &Present&Not present\\\\\n",
        "    \\hline\n",
        "  Yes&127&373\\\\\n",
        "  \\hline\n",
        " No&30&470\\\\\n",
        "  \\hline\n",
        "\\end{tabular}\n",
        "\\end{center}\n",
        "Find and interpret the relative risk.\n",
        "(4)\n",
        "In a clinical trial for a new drug, researchers observed the following outcomes\n",
        "\n",
        "\\begin{center}\n",
        "\\begin{tabular}{|c|c|c|}\n",
        "    \\hline\n",
        " \\multirow{2}{*}{Treatment} &\n",
        " \\multicolumn{2}{c|}{experienced side effects}\\\\\n",
        " \\cline{2-3}\n",
        "  &Yes&No\\\\\n",
        "    \\hline\n",
        "  New drug&26&224\\\\\n",
        "  \\hline\n",
        " Placebo&68&182\\\\\n",
        "  \\hline\n",
        "\\end{tabular}\n",
        "\\end{center}\n",
        "\n",
        "Compute the odds ratio of experiencing side effects for patients who received the new drug compared to those who received a placebo. Interpret the value obtained.\n",
        "\n",
        "(5) A study shows that the probability of developing a certain health condition is 0.32. If 15 people are selected at random, what is the probability that\n",
        "(i) exactly 3 of them will develop the condition?\n",
        "(ii) between 2 and 5 of them will develop the condition\n",
        "\n",
        "(6) The weights of newborns in a hospital follow a normal distribution with a mean of 3.5 kg and a standard deviation of 0.5 kg.\n",
        "(i) What is the probability that a randomly selected newborn weighs less than 3 kg?\n",
        "(ii) If a newborn weighs more than 4 kg, what percentile does this place them in?\n",
        "\n",
        "(7)Suppose a public health researcher is conducting a study to investigate the number of individuals who successfully quit smoking after attending a smoking cessation program.\n",
        "The researcher wants to simulate the number of successful quitters among a sample of 30 participants who attended the program, given that the success rate of the program is estimated to be 45%.\n",
        "Plot a histogram for the number who quit smoking with a normal curve overlay for\n",
        "(a) 100 simulations\n",
        "(b) 1000 simulations\n",
        "Comment on the distributions obtained.  \n",
        "\n",
        "(8) Suppose a public health researcher is studying the distribution of cholesterol levels in a population. The researcher knows that cholesterol levels follow a normal distribution with a mean of 180 mg/dL and a standard deviation of 30 mg/dL.\n",
        "a) Generate a sample of 1000 cholesterol measurements that follow this normal distribution.\n",
        "b) Plot a histogram of the simulated cholesterol measurements to visualize their distribution.\n",
        "c) Plot a normal curve for standard normal distribution to overlay the histogram.\n",
        "\n",
        "### References\n",
        "\n",
        " 1.\tBruce, P., Bruce,A. and Gedeck ,P.(2021) Practical Statistics for Data Scientists: 50+ Essential Concepts Using R and Python. O'Reilly Media, Inc.\n",
        "2.\tMiller, J. D. (2020). Statistics for Data Science. O'Reilly Media.\n",
        "3.\tRoss, S. (2020). Introduction to Probability and statistics for Engineers and Scientists. (6th Ed.). Academic Press.\n",
        "4.\tUrdan, T. C. (2020). Statistics in Plain English (5th ed.). Routledge\n",
        "\n",
        "\n",
        "\n",
        "\n",
        "\n",
        "\n",
        "\n",
        "\n",
        "\n"
      ],
      "metadata": {
        "id": "0be221ff-4618-4679-a739-9e1d24d07fd9"
      },
      "id": "0be221ff-4618-4679-a739-9e1d24d07fd9"
    }
  ],
  "metadata": {
    "kernelspec": {
      "display_name": "Python 3 (ipykernel)",
      "language": "python",
      "name": "python3"
    },
    "language_info": {
      "codemirror_mode": {
        "name": "ipython",
        "version": 3
      },
      "file_extension": ".py",
      "mimetype": "text/x-python",
      "name": "python",
      "nbconvert_exporter": "python",
      "pygments_lexer": "ipython3",
      "version": "3.12.2"
    },
    "colab": {
      "provenance": [],
      "include_colab_link": true
    }
  },
  "nbformat": 4,
  "nbformat_minor": 5
}