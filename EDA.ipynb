{
  "nbformat": 4,
  "nbformat_minor": 0,
  "metadata": {
    "colab": {
      "provenance": [],
      "authorship_tag": "ABX9TyMCJkRCJIZuwNKTTuvVXizZ",
      "include_colab_link": true
    },
    "kernelspec": {
      "name": "python3",
      "display_name": "Python 3"
    },
    "language_info": {
      "name": "python"
    }
  },
  "cells": [
    {
      "cell_type": "markdown",
      "metadata": {
        "id": "view-in-github",
        "colab_type": "text"
      },
      "source": [
        "<a href=\"https://colab.research.google.com/github/kebscharry/CharityMomanyi/blob/main/EDA.ipynb\" target=\"_parent\"><img src=\"https://colab.research.google.com/assets/colab-badge.svg\" alt=\"Open In Colab\"/></a>"
      ]
    },
    {
      "cell_type": "code",
      "execution_count": 7,
      "metadata": {
        "id": "lBBbsN7pm0eb"
      },
      "outputs": [],
      "source": [
        "import pandas as pd\n",
        "import numpy as np\n",
        "import matplotlib.pyplot as plt\n",
        "import seaborn as sns\n",
        "from statsmodels.graphics.mosaicplot import mosaic\n"
      ]
    },
    {
      "cell_type": "code",
      "source": [
        "data = pd.read_csv('/content/nhanes_reduced .csv')"
      ],
      "metadata": {
        "id": "WwoAJyyxpmzq"
      },
      "execution_count": 31,
      "outputs": []
    },
    {
      "cell_type": "code",
      "source": [
        "data.head()"
      ],
      "metadata": {
        "colab": {
          "base_uri": "https://localhost:8080/",
          "height": 342
        },
        "id": "GEuclGkCtF-k",
        "outputId": "318014e8-4795-40a7-a742-c135198fb2cf"
      },
      "execution_count": 13,
      "outputs": [
        {
          "output_type": "execute_result",
          "data": {
            "text/plain": [
              "      ID SurveyYr  Gender  Age AgeDecade  AgeMonths     Education  \\\n",
              "0  51624  2009_10    male   34     30-39      409.0   High School   \n",
              "1  51625  2009_10    male    4       0-9       49.0           NaN   \n",
              "2  51630  2009_10  female   49     40-49      596.0  Some College   \n",
              "3  51638  2009_10    male    9       0-9      115.0           NaN   \n",
              "4  51646  2009_10    male    8       0-9      101.0           NaN   \n",
              "\n",
              "  MaritalStatus     HHIncome  HHIncomeMid  ...  PhysActiveDays  TVHrsDay  \\\n",
              "0       Married  25000-34999      30000.0  ...             NaN       NaN   \n",
              "1           NaN  20000-24999      22500.0  ...             NaN       NaN   \n",
              "2   LivePartner  35000-44999      40000.0  ...             NaN       NaN   \n",
              "3           NaN  75000-99999      87500.0  ...             NaN       NaN   \n",
              "4           NaN  55000-64999      60000.0  ...             NaN       NaN   \n",
              "\n",
              "  SleepHrsNight SleepTrouble  CompHrsDay  TVHrsDayChild  CompHrsDayChild  \\\n",
              "0           4.0          Yes         NaN            NaN              NaN   \n",
              "1           NaN          NaN         NaN            4.0              1.0   \n",
              "2           8.0          Yes         NaN            NaN              NaN   \n",
              "3           NaN          NaN         NaN            5.0              0.0   \n",
              "4           NaN          NaN         NaN            1.0              6.0   \n",
              "\n",
              "  SmokeNow  Smoke100  Smoke100n  \n",
              "0       No       Yes     Smoker  \n",
              "1      NaN       NaN        NaN  \n",
              "2      Yes       Yes     Smoker  \n",
              "3      NaN       NaN        NaN  \n",
              "4      NaN       NaN        NaN  \n",
              "\n",
              "[5 rows x 37 columns]"
            ],
            "text/html": [
              "\n",
              "  <div id=\"df-c3f42224-437a-40a3-9f41-16910415c1f8\" class=\"colab-df-container\">\n",
              "    <div>\n",
              "<style scoped>\n",
              "    .dataframe tbody tr th:only-of-type {\n",
              "        vertical-align: middle;\n",
              "    }\n",
              "\n",
              "    .dataframe tbody tr th {\n",
              "        vertical-align: top;\n",
              "    }\n",
              "\n",
              "    .dataframe thead th {\n",
              "        text-align: right;\n",
              "    }\n",
              "</style>\n",
              "<table border=\"1\" class=\"dataframe\">\n",
              "  <thead>\n",
              "    <tr style=\"text-align: right;\">\n",
              "      <th></th>\n",
              "      <th>ID</th>\n",
              "      <th>SurveyYr</th>\n",
              "      <th>Gender</th>\n",
              "      <th>Age</th>\n",
              "      <th>AgeDecade</th>\n",
              "      <th>AgeMonths</th>\n",
              "      <th>Education</th>\n",
              "      <th>MaritalStatus</th>\n",
              "      <th>HHIncome</th>\n",
              "      <th>HHIncomeMid</th>\n",
              "      <th>...</th>\n",
              "      <th>PhysActiveDays</th>\n",
              "      <th>TVHrsDay</th>\n",
              "      <th>SleepHrsNight</th>\n",
              "      <th>SleepTrouble</th>\n",
              "      <th>CompHrsDay</th>\n",
              "      <th>TVHrsDayChild</th>\n",
              "      <th>CompHrsDayChild</th>\n",
              "      <th>SmokeNow</th>\n",
              "      <th>Smoke100</th>\n",
              "      <th>Smoke100n</th>\n",
              "    </tr>\n",
              "  </thead>\n",
              "  <tbody>\n",
              "    <tr>\n",
              "      <th>0</th>\n",
              "      <td>51624</td>\n",
              "      <td>2009_10</td>\n",
              "      <td>male</td>\n",
              "      <td>34</td>\n",
              "      <td>30-39</td>\n",
              "      <td>409.0</td>\n",
              "      <td>High School</td>\n",
              "      <td>Married</td>\n",
              "      <td>25000-34999</td>\n",
              "      <td>30000.0</td>\n",
              "      <td>...</td>\n",
              "      <td>NaN</td>\n",
              "      <td>NaN</td>\n",
              "      <td>4.0</td>\n",
              "      <td>Yes</td>\n",
              "      <td>NaN</td>\n",
              "      <td>NaN</td>\n",
              "      <td>NaN</td>\n",
              "      <td>No</td>\n",
              "      <td>Yes</td>\n",
              "      <td>Smoker</td>\n",
              "    </tr>\n",
              "    <tr>\n",
              "      <th>1</th>\n",
              "      <td>51625</td>\n",
              "      <td>2009_10</td>\n",
              "      <td>male</td>\n",
              "      <td>4</td>\n",
              "      <td>0-9</td>\n",
              "      <td>49.0</td>\n",
              "      <td>NaN</td>\n",
              "      <td>NaN</td>\n",
              "      <td>20000-24999</td>\n",
              "      <td>22500.0</td>\n",
              "      <td>...</td>\n",
              "      <td>NaN</td>\n",
              "      <td>NaN</td>\n",
              "      <td>NaN</td>\n",
              "      <td>NaN</td>\n",
              "      <td>NaN</td>\n",
              "      <td>4.0</td>\n",
              "      <td>1.0</td>\n",
              "      <td>NaN</td>\n",
              "      <td>NaN</td>\n",
              "      <td>NaN</td>\n",
              "    </tr>\n",
              "    <tr>\n",
              "      <th>2</th>\n",
              "      <td>51630</td>\n",
              "      <td>2009_10</td>\n",
              "      <td>female</td>\n",
              "      <td>49</td>\n",
              "      <td>40-49</td>\n",
              "      <td>596.0</td>\n",
              "      <td>Some College</td>\n",
              "      <td>LivePartner</td>\n",
              "      <td>35000-44999</td>\n",
              "      <td>40000.0</td>\n",
              "      <td>...</td>\n",
              "      <td>NaN</td>\n",
              "      <td>NaN</td>\n",
              "      <td>8.0</td>\n",
              "      <td>Yes</td>\n",
              "      <td>NaN</td>\n",
              "      <td>NaN</td>\n",
              "      <td>NaN</td>\n",
              "      <td>Yes</td>\n",
              "      <td>Yes</td>\n",
              "      <td>Smoker</td>\n",
              "    </tr>\n",
              "    <tr>\n",
              "      <th>3</th>\n",
              "      <td>51638</td>\n",
              "      <td>2009_10</td>\n",
              "      <td>male</td>\n",
              "      <td>9</td>\n",
              "      <td>0-9</td>\n",
              "      <td>115.0</td>\n",
              "      <td>NaN</td>\n",
              "      <td>NaN</td>\n",
              "      <td>75000-99999</td>\n",
              "      <td>87500.0</td>\n",
              "      <td>...</td>\n",
              "      <td>NaN</td>\n",
              "      <td>NaN</td>\n",
              "      <td>NaN</td>\n",
              "      <td>NaN</td>\n",
              "      <td>NaN</td>\n",
              "      <td>5.0</td>\n",
              "      <td>0.0</td>\n",
              "      <td>NaN</td>\n",
              "      <td>NaN</td>\n",
              "      <td>NaN</td>\n",
              "    </tr>\n",
              "    <tr>\n",
              "      <th>4</th>\n",
              "      <td>51646</td>\n",
              "      <td>2009_10</td>\n",
              "      <td>male</td>\n",
              "      <td>8</td>\n",
              "      <td>0-9</td>\n",
              "      <td>101.0</td>\n",
              "      <td>NaN</td>\n",
              "      <td>NaN</td>\n",
              "      <td>55000-64999</td>\n",
              "      <td>60000.0</td>\n",
              "      <td>...</td>\n",
              "      <td>NaN</td>\n",
              "      <td>NaN</td>\n",
              "      <td>NaN</td>\n",
              "      <td>NaN</td>\n",
              "      <td>NaN</td>\n",
              "      <td>1.0</td>\n",
              "      <td>6.0</td>\n",
              "      <td>NaN</td>\n",
              "      <td>NaN</td>\n",
              "      <td>NaN</td>\n",
              "    </tr>\n",
              "  </tbody>\n",
              "</table>\n",
              "<p>5 rows × 37 columns</p>\n",
              "</div>\n",
              "    <div class=\"colab-df-buttons\">\n",
              "\n",
              "  <div class=\"colab-df-container\">\n",
              "    <button class=\"colab-df-convert\" onclick=\"convertToInteractive('df-c3f42224-437a-40a3-9f41-16910415c1f8')\"\n",
              "            title=\"Convert this dataframe to an interactive table.\"\n",
              "            style=\"display:none;\">\n",
              "\n",
              "  <svg xmlns=\"http://www.w3.org/2000/svg\" height=\"24px\" viewBox=\"0 -960 960 960\">\n",
              "    <path d=\"M120-120v-720h720v720H120Zm60-500h600v-160H180v160Zm220 220h160v-160H400v160Zm0 220h160v-160H400v160ZM180-400h160v-160H180v160Zm440 0h160v-160H620v160ZM180-180h160v-160H180v160Zm440 0h160v-160H620v160Z\"/>\n",
              "  </svg>\n",
              "    </button>\n",
              "\n",
              "  <style>\n",
              "    .colab-df-container {\n",
              "      display:flex;\n",
              "      gap: 12px;\n",
              "    }\n",
              "\n",
              "    .colab-df-convert {\n",
              "      background-color: #E8F0FE;\n",
              "      border: none;\n",
              "      border-radius: 50%;\n",
              "      cursor: pointer;\n",
              "      display: none;\n",
              "      fill: #1967D2;\n",
              "      height: 32px;\n",
              "      padding: 0 0 0 0;\n",
              "      width: 32px;\n",
              "    }\n",
              "\n",
              "    .colab-df-convert:hover {\n",
              "      background-color: #E2EBFA;\n",
              "      box-shadow: 0px 1px 2px rgba(60, 64, 67, 0.3), 0px 1px 3px 1px rgba(60, 64, 67, 0.15);\n",
              "      fill: #174EA6;\n",
              "    }\n",
              "\n",
              "    .colab-df-buttons div {\n",
              "      margin-bottom: 4px;\n",
              "    }\n",
              "\n",
              "    [theme=dark] .colab-df-convert {\n",
              "      background-color: #3B4455;\n",
              "      fill: #D2E3FC;\n",
              "    }\n",
              "\n",
              "    [theme=dark] .colab-df-convert:hover {\n",
              "      background-color: #434B5C;\n",
              "      box-shadow: 0px 1px 3px 1px rgba(0, 0, 0, 0.15);\n",
              "      filter: drop-shadow(0px 1px 2px rgba(0, 0, 0, 0.3));\n",
              "      fill: #FFFFFF;\n",
              "    }\n",
              "  </style>\n",
              "\n",
              "    <script>\n",
              "      const buttonEl =\n",
              "        document.querySelector('#df-c3f42224-437a-40a3-9f41-16910415c1f8 button.colab-df-convert');\n",
              "      buttonEl.style.display =\n",
              "        google.colab.kernel.accessAllowed ? 'block' : 'none';\n",
              "\n",
              "      async function convertToInteractive(key) {\n",
              "        const element = document.querySelector('#df-c3f42224-437a-40a3-9f41-16910415c1f8');\n",
              "        const dataTable =\n",
              "          await google.colab.kernel.invokeFunction('convertToInteractive',\n",
              "                                                    [key], {});\n",
              "        if (!dataTable) return;\n",
              "\n",
              "        const docLinkHtml = 'Like what you see? Visit the ' +\n",
              "          '<a target=\"_blank\" href=https://colab.research.google.com/notebooks/data_table.ipynb>data table notebook</a>'\n",
              "          + ' to learn more about interactive tables.';\n",
              "        element.innerHTML = '';\n",
              "        dataTable['output_type'] = 'display_data';\n",
              "        await google.colab.output.renderOutput(dataTable, element);\n",
              "        const docLink = document.createElement('div');\n",
              "        docLink.innerHTML = docLinkHtml;\n",
              "        element.appendChild(docLink);\n",
              "      }\n",
              "    </script>\n",
              "  </div>\n",
              "\n",
              "\n",
              "<div id=\"df-6e69fea8-7a74-45ce-9d09-258e9d56e97b\">\n",
              "  <button class=\"colab-df-quickchart\" onclick=\"quickchart('df-6e69fea8-7a74-45ce-9d09-258e9d56e97b')\"\n",
              "            title=\"Suggest charts\"\n",
              "            style=\"display:none;\">\n",
              "\n",
              "<svg xmlns=\"http://www.w3.org/2000/svg\" height=\"24px\"viewBox=\"0 0 24 24\"\n",
              "     width=\"24px\">\n",
              "    <g>\n",
              "        <path d=\"M19 3H5c-1.1 0-2 .9-2 2v14c0 1.1.9 2 2 2h14c1.1 0 2-.9 2-2V5c0-1.1-.9-2-2-2zM9 17H7v-7h2v7zm4 0h-2V7h2v10zm4 0h-2v-4h2v4z\"/>\n",
              "    </g>\n",
              "</svg>\n",
              "  </button>\n",
              "\n",
              "<style>\n",
              "  .colab-df-quickchart {\n",
              "      --bg-color: #E8F0FE;\n",
              "      --fill-color: #1967D2;\n",
              "      --hover-bg-color: #E2EBFA;\n",
              "      --hover-fill-color: #174EA6;\n",
              "      --disabled-fill-color: #AAA;\n",
              "      --disabled-bg-color: #DDD;\n",
              "  }\n",
              "\n",
              "  [theme=dark] .colab-df-quickchart {\n",
              "      --bg-color: #3B4455;\n",
              "      --fill-color: #D2E3FC;\n",
              "      --hover-bg-color: #434B5C;\n",
              "      --hover-fill-color: #FFFFFF;\n",
              "      --disabled-bg-color: #3B4455;\n",
              "      --disabled-fill-color: #666;\n",
              "  }\n",
              "\n",
              "  .colab-df-quickchart {\n",
              "    background-color: var(--bg-color);\n",
              "    border: none;\n",
              "    border-radius: 50%;\n",
              "    cursor: pointer;\n",
              "    display: none;\n",
              "    fill: var(--fill-color);\n",
              "    height: 32px;\n",
              "    padding: 0;\n",
              "    width: 32px;\n",
              "  }\n",
              "\n",
              "  .colab-df-quickchart:hover {\n",
              "    background-color: var(--hover-bg-color);\n",
              "    box-shadow: 0 1px 2px rgba(60, 64, 67, 0.3), 0 1px 3px 1px rgba(60, 64, 67, 0.15);\n",
              "    fill: var(--button-hover-fill-color);\n",
              "  }\n",
              "\n",
              "  .colab-df-quickchart-complete:disabled,\n",
              "  .colab-df-quickchart-complete:disabled:hover {\n",
              "    background-color: var(--disabled-bg-color);\n",
              "    fill: var(--disabled-fill-color);\n",
              "    box-shadow: none;\n",
              "  }\n",
              "\n",
              "  .colab-df-spinner {\n",
              "    border: 2px solid var(--fill-color);\n",
              "    border-color: transparent;\n",
              "    border-bottom-color: var(--fill-color);\n",
              "    animation:\n",
              "      spin 1s steps(1) infinite;\n",
              "  }\n",
              "\n",
              "  @keyframes spin {\n",
              "    0% {\n",
              "      border-color: transparent;\n",
              "      border-bottom-color: var(--fill-color);\n",
              "      border-left-color: var(--fill-color);\n",
              "    }\n",
              "    20% {\n",
              "      border-color: transparent;\n",
              "      border-left-color: var(--fill-color);\n",
              "      border-top-color: var(--fill-color);\n",
              "    }\n",
              "    30% {\n",
              "      border-color: transparent;\n",
              "      border-left-color: var(--fill-color);\n",
              "      border-top-color: var(--fill-color);\n",
              "      border-right-color: var(--fill-color);\n",
              "    }\n",
              "    40% {\n",
              "      border-color: transparent;\n",
              "      border-right-color: var(--fill-color);\n",
              "      border-top-color: var(--fill-color);\n",
              "    }\n",
              "    60% {\n",
              "      border-color: transparent;\n",
              "      border-right-color: var(--fill-color);\n",
              "    }\n",
              "    80% {\n",
              "      border-color: transparent;\n",
              "      border-right-color: var(--fill-color);\n",
              "      border-bottom-color: var(--fill-color);\n",
              "    }\n",
              "    90% {\n",
              "      border-color: transparent;\n",
              "      border-bottom-color: var(--fill-color);\n",
              "    }\n",
              "  }\n",
              "</style>\n",
              "\n",
              "  <script>\n",
              "    async function quickchart(key) {\n",
              "      const quickchartButtonEl =\n",
              "        document.querySelector('#' + key + ' button');\n",
              "      quickchartButtonEl.disabled = true;  // To prevent multiple clicks.\n",
              "      quickchartButtonEl.classList.add('colab-df-spinner');\n",
              "      try {\n",
              "        const charts = await google.colab.kernel.invokeFunction(\n",
              "            'suggestCharts', [key], {});\n",
              "      } catch (error) {\n",
              "        console.error('Error during call to suggestCharts:', error);\n",
              "      }\n",
              "      quickchartButtonEl.classList.remove('colab-df-spinner');\n",
              "      quickchartButtonEl.classList.add('colab-df-quickchart-complete');\n",
              "    }\n",
              "    (() => {\n",
              "      let quickchartButtonEl =\n",
              "        document.querySelector('#df-6e69fea8-7a74-45ce-9d09-258e9d56e97b button');\n",
              "      quickchartButtonEl.style.display =\n",
              "        google.colab.kernel.accessAllowed ? 'block' : 'none';\n",
              "    })();\n",
              "  </script>\n",
              "</div>\n",
              "\n",
              "    </div>\n",
              "  </div>\n"
            ],
            "application/vnd.google.colaboratory.intrinsic+json": {
              "type": "dataframe",
              "variable_name": "data"
            }
          },
          "metadata": {},
          "execution_count": 13
        }
      ]
    },
    {
      "cell_type": "code",
      "source": [
        "nhanes = data['Education'].value_counts()\n",
        "print(nhanes)"
      ],
      "metadata": {
        "colab": {
          "base_uri": "https://localhost:8080/"
        },
        "id": "iyhDWRHxq-bj",
        "outputId": "ed4f3ea1-5aea-49ad-b15d-351c96dff3f2"
      },
      "execution_count": 9,
      "outputs": [
        {
          "output_type": "stream",
          "name": "stdout",
          "text": [
            "Education\n",
            "Some College      1423\n",
            "College Grad      1246\n",
            "High School        993\n",
            "9 - 11th Grade     624\n",
            "8th Grade          359\n",
            "Name: count, dtype: int64\n"
          ]
        }
      ]
    },
    {
      "cell_type": "code",
      "source": [
        "freq_table = pd.crosstab(data['Education'], columns='count')\n",
        "print(freq_table)"
      ],
      "metadata": {
        "colab": {
          "base_uri": "https://localhost:8080/"
        },
        "id": "3FI2tjztrHiR",
        "outputId": "f243132e-3d28-4ec4-9262-a84cf42744fa"
      },
      "execution_count": 10,
      "outputs": [
        {
          "output_type": "stream",
          "name": "stdout",
          "text": [
            "col_0           count\n",
            "Education            \n",
            "8th Grade         359\n",
            "9 - 11th Grade    624\n",
            "College Grad     1246\n",
            "High School       993\n",
            "Some College     1423\n"
          ]
        }
      ]
    },
    {
      "cell_type": "code",
      "source": [
        "freq_table = pd.crosstab(data['Gender'], columns='count')\n",
        "print(freq_table)"
      ],
      "metadata": {
        "colab": {
          "base_uri": "https://localhost:8080/"
        },
        "id": "0KlIIlkBsbYz",
        "outputId": "c4de9cfc-e4e1-497f-ce3b-6c477116aca5"
      },
      "execution_count": 11,
      "outputs": [
        {
          "output_type": "stream",
          "name": "stdout",
          "text": [
            "col_0   count\n",
            "Gender       \n",
            "female   3420\n",
            "male     3359\n"
          ]
        }
      ]
    },
    {
      "cell_type": "code",
      "source": [
        "freq_table = pd.crosstab(data['MaritalStatus'], columns='count')\n",
        "print(freq_table)"
      ],
      "metadata": {
        "colab": {
          "base_uri": "https://localhost:8080/"
        },
        "id": "9ktJzAdPsy5b",
        "outputId": "b1e8bfd1-979e-4146-d7fe-299992c0cca1"
      },
      "execution_count": 15,
      "outputs": [
        {
          "output_type": "stream",
          "name": "stdout",
          "text": [
            "col_0          count\n",
            "MaritalStatus       \n",
            "Divorced         443\n",
            "LivePartner      374\n",
            "Married         2463\n",
            "NeverMarried     899\n",
            "Separated        135\n",
            "Widowed          336\n"
          ]
        }
      ]
    },
    {
      "cell_type": "code",
      "source": [
        "freq_table = pd.crosstab(data['SleepTrouble'], columns='count')\n",
        "print(freq_table)"
      ],
      "metadata": {
        "colab": {
          "base_uri": "https://localhost:8080/"
        },
        "id": "uuZzLqP5tlD_",
        "outputId": "880ad917-f26c-443a-d786-72caaf5a780f"
      },
      "execution_count": 16,
      "outputs": [
        {
          "output_type": "stream",
          "name": "stdout",
          "text": [
            "col_0         count\n",
            "SleepTrouble       \n",
            "No             3813\n",
            "Yes            1234\n"
          ]
        }
      ]
    },
    {
      "cell_type": "code",
      "source": [
        "freq_table = pd.crosstab(data['Education'], data['HHIncome'])\n",
        "print(freq_table)"
      ],
      "metadata": {
        "colab": {
          "base_uri": "https://localhost:8080/"
        },
        "id": "hm5CysDAuWEG",
        "outputId": "9d88b23b-da16-4725-faa2-731f08207f90"
      },
      "execution_count": 19,
      "outputs": [
        {
          "output_type": "stream",
          "name": "stdout",
          "text": [
            "HHIncome        0-4999  10000-14999  15000-19999  20000-24999  25000-34999  \\\n",
            "Education                                                                    \n",
            "8th Grade           15           35           46           45           55   \n",
            "9 - 11th Grade      26           64           57           61           77   \n",
            "College Grad        13           14           31           25           66   \n",
            "High School         21           95           74           80          119   \n",
            "Some College        23           90           70           86          149   \n",
            "\n",
            "HHIncome        35000-44999  45000-54999  5000-9999  55000-64999  65000-74999  \\\n",
            "Education                                                                       \n",
            "8th Grade                32           17         23           12            8   \n",
            "9 - 11th Grade           56           46         34           32           25   \n",
            "College Grad             85           80          8           75           81   \n",
            "High School             114           86         35           62           46   \n",
            "Some College            136          128         33           92           85   \n",
            "\n",
            "HHIncome        75000-99999  more 99999  \n",
            "Education                                \n",
            "8th Grade                 8           8  \n",
            "9 - 11th Grade           37          32  \n",
            "College Grad            196         497  \n",
            "High School              73          99  \n",
            "Some College            160         252  \n"
          ]
        }
      ]
    },
    {
      "cell_type": "code",
      "source": [
        "freq_table = pd.crosstab(data['MaritalStatus'], data['Education'])\n",
        "print(freq_table)"
      ],
      "metadata": {
        "colab": {
          "base_uri": "https://localhost:8080/"
        },
        "id": "Mb8YexK2uoxs",
        "outputId": "53b78cdd-58f6-42ec-b66c-d123172a1783"
      },
      "execution_count": 18,
      "outputs": [
        {
          "output_type": "stream",
          "name": "stdout",
          "text": [
            "Education      8th Grade  9 - 11th Grade  College Grad  High School  \\\n",
            "MaritalStatus                                                         \n",
            "Divorced              21              64            83          105   \n",
            "LivePartner           37              79            58           87   \n",
            "Married              184             289           819          486   \n",
            "NeverMarried          38             110           224          206   \n",
            "Separated             19              26            19           30   \n",
            "Widowed               60              56            43           79   \n",
            "\n",
            "Education      Some College  \n",
            "MaritalStatus                \n",
            "Divorced                169  \n",
            "LivePartner             112  \n",
            "Married                 680  \n",
            "NeverMarried            320  \n",
            "Separated                41  \n",
            "Widowed                  98  \n"
          ]
        }
      ]
    },
    {
      "cell_type": "code",
      "source": [
        "freq_table = pd.crosstab(data['HomeOwn'], data['Work'])\n",
        "print(freq_table)"
      ],
      "metadata": {
        "colab": {
          "base_uri": "https://localhost:8080/"
        },
        "id": "qO3PyB0CvVlB",
        "outputId": "3832a173-33c2-4d19-970c-9961bb884497"
      },
      "execution_count": 20,
      "outputs": [
        {
          "output_type": "stream",
          "name": "stdout",
          "text": [
            "Work     Looking  NotWorking  Working\n",
            "HomeOwn                              \n",
            "Other          8          56       70\n",
            "Own           98        1270     1783\n",
            "Rent         102         637      983\n"
          ]
        }
      ]
    },
    {
      "cell_type": "code",
      "source": [
        "freq_table = pd.crosstab(data['MaritalStatus'], data['PhysActive'])\n",
        "print(freq_table)"
      ],
      "metadata": {
        "colab": {
          "base_uri": "https://localhost:8080/"
        },
        "id": "MYQaIQjwwlcu",
        "outputId": "824078df-6598-4597-c616-d0a3c8ca58c7"
      },
      "execution_count": 21,
      "outputs": [
        {
          "output_type": "stream",
          "name": "stdout",
          "text": [
            "PhysActive       No   Yes\n",
            "MaritalStatus            \n",
            "Divorced        225   218\n",
            "LivePartner     194   180\n",
            "Married        1204  1259\n",
            "NeverMarried    356   543\n",
            "Separated        75    60\n",
            "Widowed         236   100\n"
          ]
        }
      ]
    },
    {
      "cell_type": "code",
      "source": [
        "MaritalStatus_counts = data['MaritalStatus'].value_counts()\n",
        "plt.figure(figsize=(10, 6))\n",
        "MaritalStatus_counts.plot(kind='bar', color='green')\n",
        "plt.xlabel('Marital Status')\n",
        "plt.ylabel('Count')\n",
        "plt.title('Marital Status Counts')\n",
        "plt.show()"
      ],
      "metadata": {
        "colab": {
          "base_uri": "https://localhost:8080/",
          "height": 645
        },
        "id": "hBWoT7gN4W26",
        "outputId": "17ad713b-a32a-44d1-8495-6829010b924f"
      },
      "execution_count": 32,
      "outputs": [
        {
          "output_type": "display_data",
          "data": {
            "text/plain": [
              "<Figure size 1000x600 with 1 Axes>"
            ],
            "image/png": "[encoded data removed]"
          },
          "metadata": {}
        }
      ]
    },
    {
      "cell_type": "code",
      "source": [
        "# graph of HH income and education\n",
        "freq_table = pd.crosstab(data['HHIncome'], data['Education'])\n",
        "print(freq_table)"
      ],
      "metadata": {
        "colab": {
          "base_uri": "https://localhost:8080/"
        },
        "id": "3pRW9sPi7xuN",
        "outputId": "a046dcde-ec84-4be1-dbe5-0dd51a7dfbb8"
      },
      "execution_count": 35,
      "outputs": [
        {
          "output_type": "stream",
          "name": "stdout",
          "text": [
            "Education    8th Grade  9 - 11th Grade  College Grad  High School  \\\n",
            "HHIncome                                                            \n",
            "0-4999              15              26            13           21   \n",
            "10000-14999         35              64            14           95   \n",
            "15000-19999         46              57            31           74   \n",
            "20000-24999         45              61            25           80   \n",
            "25000-34999         55              77            66          119   \n",
            "35000-44999         32              56            85          114   \n",
            "45000-54999         17              46            80           86   \n",
            "5000-9999           23              34             8           35   \n",
            "55000-64999         12              32            75           62   \n",
            "65000-74999          8              25            81           46   \n",
            "75000-99999          8              37           196           73   \n",
            "more 99999           8              32           497           99   \n",
            "\n",
            "Education    Some College  \n",
            "HHIncome                   \n",
            "0-4999                 23  \n",
            "10000-14999            90  \n",
            "15000-19999            70  \n",
            "20000-24999            86  \n",
            "25000-34999           149  \n",
            "35000-44999           136  \n",
            "45000-54999           128  \n",
            "5000-9999              33  \n",
            "55000-64999            92  \n",
            "65000-74999            85  \n",
            "75000-99999           160  \n",
            "more 99999            252  \n"
          ]
        }
      ]
    },
    {
      "cell_type": "code",
      "source": [
        "x = [10, 50, 30,20]"
      ],
      "metadata": {
        "id": "wCAwAdRVxOPs"
      },
      "execution_count": 22,
      "outputs": []
    },
    {
      "cell_type": "code",
      "source": [
        "diseases = ['cholera', 'Malaria', 'TB', 'HIV']\n",
        "plt.pie(x, labels=diseases, autopct='%.1f%%')\n",
        "plt.show()"
      ],
      "metadata": {
        "colab": {
          "base_uri": "https://localhost:8080/",
          "height": 406
        },
        "id": "3DcSH7I9zPF8",
        "outputId": "af0fc765-a932-456e-b88a-5421907fce28"
      },
      "execution_count": 23,
      "outputs": [
        {
          "output_type": "display_data",
          "data": {
            "text/plain": [
              "<Figure size 640x480 with 1 Axes>"
            ],
            "image/png": "[encoded data removed]"
          },
          "metadata": {}
        }
      ]
    },
    {
      "cell_type": "code",
      "source": [
        "Education_counts = data['Education'].value_counts()"
      ],
      "metadata": {
        "id": "dL0DQR0dzjwD"
      },
      "execution_count": 24,
      "outputs": []
    },
    {
      "cell_type": "code",
      "source": [
        "plt.figure(figsize=(8, 8))\n",
        "plt.pie(Education_counts, labels=Education_counts.index, autopct='%1.1f%%', startangle=140)\n",
        "plt.show()\n"
      ],
      "metadata": {
        "colab": {
          "base_uri": "https://localhost:8080/",
          "height": 653
        },
        "id": "1rebP6CE0YrI",
        "outputId": "4fd547fd-3df5-4003-a786-2d37b5c0041a"
      },
      "execution_count": 25,
      "outputs": [
        {
          "output_type": "display_data",
          "data": {
            "text/plain": [
              "<Figure size 800x800 with 1 Axes>"
            ],
            "image/png": "[encoded data removed]"
          },
          "metadata": {}
        }
      ]
    },
    {
      "cell_type": "code",
      "source": [
        "data  = {'c': 20, 'C++': 15, 'Java': 30, 'Python': 35}\n",
        "courses = list(data.keys())\n",
        "values = list(data.values())\n",
        "fig = plt.figure(figsize = (10, 5))\n",
        "plt.bar(courses, values, color = 'blue', width = 0.4)\n",
        "plt.xlabel(\"courses offered\")\n",
        "plt.ylabel(\"No. of students enrolled\")\n",
        "plt.title(\"Students enrolled in different courses\")\n",
        "plt.show()"
      ],
      "metadata": {
        "colab": {
          "base_uri": "https://localhost:8080/",
          "height": 487
        },
        "id": "Jkj3I03R0tzc",
        "outputId": "c044e598-437f-4a80-de53-62e62baaddbe"
      },
      "execution_count": 27,
      "outputs": [
        {
          "output_type": "display_data",
          "data": {
            "text/plain": [
              "<Figure size 1000x500 with 1 Axes>"
            ],
            "image/png": "[encoded data removed]"
          },
          "metadata": {}
        }
      ]
    },
    {
      "cell_type": "code",
      "source": [
        "plt.barh(courses, values, color = 'pink')"
      ],
      "metadata": {
        "colab": {
          "base_uri": "https://localhost:8080/",
          "height": 447
        },
        "id": "EdqL6SxD2pYJ",
        "outputId": "e17c5f15-8353-41e5-c4e9-372802569ed2"
      },
      "execution_count": 28,
      "outputs": [
        {
          "output_type": "execute_result",
          "data": {
            "text/plain": [
              "<BarContainer object of 4 artists>"
            ]
          },
          "metadata": {},
          "execution_count": 28
        },
        {
          "output_type": "display_data",
          "data": {
            "text/plain": [
              "<Figure size 640x480 with 1 Axes>"
            ],
            "image/png": "[encoded data removed]"
          },
          "metadata": {}
        }
      ]
    },
    {
      "cell_type": "code",
      "source": [
        "\n"
      ],
      "metadata": {
        "colab": {
          "base_uri": "https://localhost:8080/",
          "height": 141
        },
        "id": "Z5iu4h-U3pmi",
        "outputId": "036611d4-2ef3-4fd9-ea04-d98110642a26"
      },
      "execution_count": 29,
      "outputs": [
        {
          "output_type": "error",
          "ename": "KeyError",
          "evalue": "'MaritalStatus'",
          "traceback": [
            "\u001b[0;31m---------------------------------------------------------------------------\u001b[0m",
            "\u001b[0;31mKeyError\u001b[0m                                  Traceback (most recent call last)",
            "\u001b[0;32m<ipython-input-29-62e30982a32e>\u001b[0m in \u001b[0;36m<cell line: 1>\u001b[0;34m()\u001b[0m\n\u001b[0;32m----> 1\u001b[0;31m \u001b[0mMaritalStatus_counts\u001b[0m \u001b[0;34m=\u001b[0m \u001b[0mdata\u001b[0m\u001b[0;34m[\u001b[0m\u001b[0;34m'MaritalStatus'\u001b[0m\u001b[0;34m]\u001b[0m\u001b[0;34m.\u001b[0m\u001b[0mvalue_counts\u001b[0m\u001b[0;34m(\u001b[0m\u001b[0;34m)\u001b[0m\u001b[0;34m\u001b[0m\u001b[0;34m\u001b[0m\u001b[0m\n\u001b[0m",
            "\u001b[0;31mKeyError\u001b[0m: 'MaritalStatus'"
          ]
        }
      ]
    },
    {
      "cell_type": "code",
      "source": [],
      "metadata": {
        "id": "FmvnUy744EkS"
      },
      "execution_count": null,
      "outputs": []
    }
  ]
}