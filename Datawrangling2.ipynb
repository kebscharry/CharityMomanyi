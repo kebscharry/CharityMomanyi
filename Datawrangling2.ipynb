{
  "nbformat": 4,
  "nbformat_minor": 0,
  "metadata": {
    "colab": {
      "provenance": [],
      "include_colab_link": true
    },
    "kernelspec": {
      "name": "python3",
      "display_name": "Python 3"
    },
    "language_info": {
      "name": "python"
    }
  },
  "cells": [
    {
      "cell_type": "markdown",
      "metadata": {
        "id": "view-in-github",
        "colab_type": "text"
      },
      "source": [
        "<a href=\"https://colab.research.google.com/github/kebscharry/CharityMomanyi/blob/main/Datawrangling2.ipynb\" target=\"_parent\"><img src=\"https://colab.research.google.com/assets/colab-badge.svg\" alt=\"Open In Colab\"/></a>"
      ]
    },
    {
      "cell_type": "code",
      "execution_count": 1,
      "metadata": {
        "colab": {
          "base_uri": "https://localhost:8080/"
        },
        "id": "aQpVuTVgyPsB",
        "outputId": "b574f9b8-5661-4736-913c-12db0737d062"
      },
      "outputs": [
        {
          "output_type": "stream",
          "name": "stdout",
          "text": [
            "   Patient ID     Name   Gender Blood Type Diagnosis Code\n",
            "0           1    Alice   Female         A+            A00\n",
            "1           2      Bob     Male         B-            B99\n",
            "2           3  Charlie    Other         O+            C30\n",
            "3           4    David  Unknown        AB-            XYZ\n"
          ]
        }
      ],
      "source": [
        "import pandas as pd\n",
        "\n",
        "# Sample health data\n",
        "data = {\n",
        "    'Patient ID': [1, 2, 3, 4],\n",
        "    'Name': ['Alice', 'Bob', 'Charlie', 'David'],\n",
        "    'Gender': ['Female', 'Male', 'Other', 'Unknown'],  # \"Unknown\" is invalid\n",
        "    'Blood Type': ['A+', 'B-', 'O+', 'AB-'],  # All valid\n",
        "    'Diagnosis Code': ['A00', 'B99', 'C30', 'XYZ']  # \"XYZ\" is invalid\n",
        "}\n",
        "\n",
        "df = pd.DataFrame(data)\n",
        "print(df)"
      ]
    },
    {
      "cell_type": "code",
      "source": [
        "# Define valid values for each field\n",
        "valid_genders = {'Male', 'Female', 'Other'}\n",
        "valid_blood_types = {'A+', 'A-', 'B+', 'B-', 'O+', 'O-', 'AB+', 'AB-'}\n",
        "valid_diagnosis_codes = {'A00', 'B99', 'C30'}  # Example ICD-10 codes"
      ],
      "metadata": {
        "id": "Ww4GmsiWy4th"
      },
      "execution_count": 2,
      "outputs": []
    },
    {
      "cell_type": "code",
      "source": [
        "# Custom function to check membership constraints\n",
        "def check_membership(value, valid_set):\n",
        "    if value not in valid_set:\n",
        "        return False\n",
        "    return True\n",
        "\n",
        "# Function to apply constraints and find invalid rows\n",
        "def validate_health_data(df):\n",
        "    invalid_rows = []\n",
        "    for index, row in df.iterrows():\n",
        "        errors = {}\n",
        "        if not check_membership(row['Gender'], valid_genders):\n",
        "            errors['Gender'] = row['Gender']\n",
        "        if not check_membership(row['Blood Type'], valid_blood_types):\n",
        "            errors['Blood Type'] = row['Blood Type']\n",
        "        if not check_membership(row['Diagnosis Code'], valid_diagnosis_codes):\n",
        "            errors['Diagnosis Code'] = row['Diagnosis Code']\n",
        "\n",
        "        if errors:\n",
        "            invalid_rows.append({'index': index, 'errors': errors})\n",
        "\n",
        "    return invalid_rows\n",
        "\n",
        "# Validate the DataFrame\n",
        "invalid_entries = validate_health_data(df)\n",
        "\n",
        "# Print invalid entries\n",
        "for entry in invalid_entries:\n",
        "    print(f\"Row {entry['index']} has invalid data: {entry['errors']}\")\n",
        "\n",
        "# Output:\n",
        "# Row 3 has invalid data: {'Gender': 'Unknown', 'Diagnosis Code': 'XYZ'}\n"
      ],
      "metadata": {
        "colab": {
          "base_uri": "https://localhost:8080/"
        },
        "id": "2iNgwl58zMMc",
        "outputId": "be06217e-62ba-47c4-9ad8-9c2122a77fd2"
      },
      "execution_count": 3,
      "outputs": [
        {
          "output_type": "stream",
          "name": "stdout",
          "text": [
            "Row 3 has invalid data: {'Gender': 'Unknown', 'Diagnosis Code': 'XYZ'}\n"
          ]
        }
      ]
    },
    {
      "cell_type": "code",
      "source": [
        "# Option 1: Remove invalid rows\n",
        "df_cleaned = df.drop(index=[entry['index'] for entry in invalid_entries])\n",
        "\n",
        "# Option 2: Replace invalid values with defaults\n",
        "for entry in invalid_entries:\n",
        "    for field in entry['errors']:\n",
        "        if field == 'Gender':\n",
        "            df.at[entry['index'], field] = 'Other'  # Default gender\n",
        "        elif field == 'Diagnosis Code':\n",
        "            df.at[entry['index'], field] = 'A00'  # Default diagnosis code\n",
        "\n",
        "print(\"\\nCleaned DataFrame:\")\n",
        "print(df_cleaned)\n"
      ],
      "metadata": {
        "colab": {
          "base_uri": "https://localhost:8080/"
        },
        "id": "Z--EOyhKzwgh",
        "outputId": "4685ae5b-0ebc-4672-a722-f9e2f61f530a"
      },
      "execution_count": 4,
      "outputs": [
        {
          "output_type": "stream",
          "name": "stdout",
          "text": [
            "\n",
            "Cleaned DataFrame:\n",
            "   Patient ID     Name  Gender Blood Type Diagnosis Code\n",
            "0           1    Alice  Female         A+            A00\n",
            "1           2      Bob    Male         B-            B99\n",
            "2           3  Charlie   Other         O+            C30\n"
          ]
        }
      ]
    },
    {
      "cell_type": "code",
      "source": [
        "import pandas as pd\n",
        "from sklearn.preprocessing import MinMaxScaler\n",
        "\n",
        "# Sample health data\n",
        "data = {\n",
        "    'Age': [25, 30, 35, 40, 45],\n",
        "    'Weight (kg)': [70, 80, 85, 90, 95],\n",
        "    'Height (cm)': [175, 180, 170, 160, 165],\n",
        "    'Blood Pressure (systolic)': [120, 130, 140, 150, 160]\n",
        "}\n",
        "\n",
        "# Create a DataFrame\n",
        "df = pd.DataFrame(data)\n",
        "\n",
        "# Initialize the Min-Max Scaler\n",
        "scaler = MinMaxScaler()\n",
        "\n",
        "# Fit and transform the data\n",
        "df_normalized = pd.DataFrame(scaler.fit_transform(df), columns=df.columns)\n",
        "\n",
        "print(\"Original Data:\")\n",
        "print(df)\n",
        "print(\"\\nNormalized Data:\")\n",
        "print(df_normalized)"
      ],
      "metadata": {
        "colab": {
          "base_uri": "https://localhost:8080/"
        },
        "id": "ZHzb6K-K7IdE",
        "outputId": "498ab2af-17cd-4fc3-f4ab-6ece59e70c7f"
      },
      "execution_count": 5,
      "outputs": [
        {
          "output_type": "stream",
          "name": "stdout",
          "text": [
            "Original Data:\n",
            "   Age  Weight (kg)  Height (cm)  Blood Pressure (systolic)\n",
            "0   25           70          175                        120\n",
            "1   30           80          180                        130\n",
            "2   35           85          170                        140\n",
            "3   40           90          160                        150\n",
            "4   45           95          165                        160\n",
            "\n",
            "Normalized Data:\n",
            "    Age  Weight (kg)  Height (cm)  Blood Pressure (systolic)\n",
            "0  0.00          0.0         0.75                       0.00\n",
            "1  0.25          0.4         1.00                       0.25\n",
            "2  0.50          0.6         0.50                       0.50\n",
            "3  0.75          0.8         0.00                       0.75\n",
            "4  1.00          1.0         0.25                       1.00\n"
          ]
        }
      ]
    },
    {
      "cell_type": "markdown",
      "source": [
        "Filter method variable selection"
      ],
      "metadata": {
        "id": "G8xGVToV9U1S"
      }
    },
    {
      "cell_type": "code",
      "source": [
        "import pandas as pd\n",
        "import numpy as np\n",
        "\n",
        "# Sample data\n",
        "data = {\n",
        "    'Feature1': [1, 2, 3, 4, 5],\n",
        "    'Feature2': [2, 3, 4, 5, 6],\n",
        "    'Feature3': [5, 4, 3, 2, 1],\n",
        "    'Target': [1, 0, 1, 0, 1]\n",
        "}\n",
        "df = pd.DataFrame(data)\n",
        "\n",
        "# Compute correlation matrix\n",
        "correlation_matrix = df.corr()\n",
        "print(\"Correlation Matrix:\")\n",
        "print(correlation_matrix)\n",
        "\n",
        "# Select features with high correlation with the target\n",
        "target_corr = correlation_matrix['Target'].abs().sort_values(ascending=False)\n",
        "print(\"\\nFeatures by correlation with Target:\")\n",
        "print(target_corr)\n"
      ],
      "metadata": {
        "colab": {
          "base_uri": "https://localhost:8080/"
        },
        "id": "khdoTvLP9Shr",
        "outputId": "010f8519-0995-45b9-a8da-d13b85539d73"
      },
      "execution_count": 6,
      "outputs": [
        {
          "output_type": "stream",
          "name": "stdout",
          "text": [
            "Correlation Matrix:\n",
            "          Feature1  Feature2  Feature3  Target\n",
            "Feature1       1.0       1.0      -1.0     0.0\n",
            "Feature2       1.0       1.0      -1.0     0.0\n",
            "Feature3      -1.0      -1.0       1.0     0.0\n",
            "Target         0.0       0.0       0.0     1.0\n",
            "\n",
            "Features by correlation with Target:\n",
            "Target      1.0\n",
            "Feature1    0.0\n",
            "Feature2    0.0\n",
            "Feature3    0.0\n",
            "Name: Target, dtype: float64\n"
          ]
        }
      ]
    }
  ]
}